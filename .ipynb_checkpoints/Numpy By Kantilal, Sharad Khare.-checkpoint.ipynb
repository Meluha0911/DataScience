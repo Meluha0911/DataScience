{
 "cells": [
  {
   "cell_type": "markdown",
   "id": "bfb9e623",
   "metadata": {},
   "source": [
    "# NUMPY"
   ]
  },
  {
   "cell_type": "code",
   "execution_count": null,
   "id": "6f769082",
   "metadata": {},
   "outputs": [],
   "source": [
    "# It is also a data structure like list, tuple, set .i.e a collection of element's. As already there are list, tuple etc \n",
    "# then why there iis need of Numpy -- generally complex operation, scientific operation, statistic's , boolean algebra iske\n",
    "# jo examples hai, expression usko solve karnekeliye Numpy is necessary. It has many built in functionalities -- eg SD, mean\n",
    "# mode, median, wo hum easily calculate kar sakte hai -- bcz numpy main wo already code likhake rakha hai.\n",
    "# In short numpy complex mathematical problem/ expression ko solve karnekeliye Numpy built hua hai.\n",
    "# Fullform of Numpy is Numerical Python.\n",
    "# Numpy is faster than list, tuple. Compplex Operation's can be perform fastly with the help of Numpy -- Why we use Numpy?\n",
    "# It is faster because it is lightweight so consume less memory, It is written(built) in \"C\" language which is faster.\n",
    "# List and tuple main hume controll nahi rehta ki exactally kitne bytes ka element banana hai but Numpy we can specify for \n",
    "# aapka data two digit hai to hum specify kar sakte hai ki usko jo memory space allocate hoga wo sum bit ka allocate hoga.\n",
    "# isase equivalent block of memory create hoti hai.\n",
    "# It's operation's are similar to operation's on list and tuple -- It is an also data structure like that \n",
    "# Numpy pandas ke sath aa jata hai inbuild so no need to install it seperately"
   ]
  },
  {
   "cell_type": "code",
   "execution_count": null,
   "id": "f8a140fa",
   "metadata": {},
   "outputs": [],
   "source": [
    "# Certainly! NumPy, short for \"Numerical Python,\" is a powerful Python library for numerical and mathematical operations. \n",
    "# It provides support for working with large, multi-dimensional arrays and matrices, along with a collection of mathematical\n",
    "# functions to operate on these arrays. Here's a breakdown of its key features and uses:\n",
    "\n",
    "# 1. **Arrays:** NumPy introduces a new data type called \"numpy.ndarray,\" which is essentially an array or grid of values.\n",
    "#             These arrays can be one-dimensional (like a list), two-dimensional (like a table or matrix), or even higher\n",
    "#             -dimensional.\n",
    "\n",
    "# 2. **Efficient Computation:** NumPy is designed for numerical computations and is highly optimized for speed and \n",
    "#                            efficiency. It allows you to perform operations on entire arrays at once, making it much faster\n",
    "#                            than using standard Python lists for mathematical tasks.\n",
    "\n",
    "# 3. **Mathematical Operations:** You can perform a wide range of mathematical operations on NumPy arrays, including \n",
    "#                              addition, subtraction, multiplication, division, exponentiation, and more. These operations \n",
    "#                              can be applied element-wise or using matrix algebra.\n",
    "\n",
    "# 4. **Broadcasting:** NumPy includes a powerful feature called broadcasting, which allows you to perform operations on\n",
    "#                   arrays with different shapes. It automatically aligns and expands smaller arrays to match the shape\n",
    "#                   of larger arrays, making complex calculations more straightforward.\n",
    "\n",
    "# 5. **Random Number Generation:** NumPy includes functions for generating random numbers and random data, which is \n",
    "#                                essential for various applications in statistics, simulations, and machine learning.\n",
    "\n",
    "# 6. **Linear Algebra:** It provides extensive support for linear algebra operations like matrix multiplication, \n",
    "#                     determinants, eigenvalues, and more. This makes it invaluable for scientific computing and data\n",
    "#                     analysis.\n",
    "\n",
    "# 7. **Integration with Other Libraries:** NumPy seamlessly integrates with other popular data science and scientific\n",
    "#                                       computing libraries, such as SciPy, pandas, and scikit-learn, making it a \n",
    "#                                       fundamental building block for many data-related tasks.\n",
    "\n",
    "# In summary, NumPy is a fundamental library for numerical computing in Python. It enables efficient manipulation and \n",
    "# analysis of numerical data, making it an essential tool for tasks involving mathematics, data analysis, machine learning,\n",
    "# and scientific research."
   ]
  },
  {
   "cell_type": "code",
   "execution_count": 1,
   "id": "2b601931",
   "metadata": {},
   "outputs": [
    {
     "name": "stdout",
     "output_type": "stream",
     "text": [
      "Requirement already satisfied: numpy in c:\\users\\sanke\\anaconda3\\lib\\site-packages (1.21.5)\n",
      "Note: you may need to restart the kernel to use updated packages.\n"
     ]
    }
   ],
   "source": [
    "pip install numpy"
   ]
  },
  {
   "cell_type": "code",
   "execution_count": 2,
   "id": "4f6f31ba",
   "metadata": {},
   "outputs": [],
   "source": [
    "import numpy as np"
   ]
  },
  {
   "cell_type": "code",
   "execution_count": 3,
   "id": "3da5d88b",
   "metadata": {},
   "outputs": [
    {
     "data": {
      "text/plain": [
       "array([1, 2, 3, 4, 5, 6, 7])"
      ]
     },
     "execution_count": 3,
     "metadata": {},
     "output_type": "execute_result"
    }
   ],
   "source": [
    "# How to create numpy array -- array is collection of similar type of data -- isme similar type ka data hota hai -- means \n",
    "# agar integer ka data hoga to sab integer type ka data hoga means homogenous type ka data\n",
    "# How to create array\n",
    "a = np.array([1,2,3,4,5,6,7])\n",
    "a"
   ]
  },
  {
   "cell_type": "code",
   "execution_count": 4,
   "id": "9be5574a",
   "metadata": {},
   "outputs": [
    {
     "data": {
      "text/plain": [
       "numpy.ndarray"
      ]
     },
     "execution_count": 4,
     "metadata": {},
     "output_type": "execute_result"
    }
   ],
   "source": [
    "type(a) # nd means n dimesional array"
   ]
  },
  {
   "cell_type": "code",
   "execution_count": null,
   "id": "cc4554e2",
   "metadata": {},
   "outputs": [],
   "source": [
    "# Jaise hum list, tuple only 1D create kar sakte hai but Numpy main hum we can create ND  -- N dimensional 1D, 2D, 3D jitne\n",
    "# bhi dimension ka data create karna hai we can create with the help of numpy array\n",
    "# Generally numpy is used for matrix calculation\n",
    "# Inbuild operations are maximum in numpy\n",
    "# In simple language, a matrix in NumPy is like a grid of numbers. Think of it as a table or a spreadsheet with rows and \n",
    "# columns, where each cell can hold a number. You can use these matrices to do math, like adding, subtracting, or\n",
    "# multiplying the numbers inside them. Matrices are handy when you want to work with structured data or perform \n",
    "# mathematical operations on organized sets of numbers."
   ]
  },
  {
   "cell_type": "code",
   "execution_count": 5,
   "id": "428e298f",
   "metadata": {},
   "outputs": [
    {
     "data": {
      "text/plain": [
       "1"
      ]
     },
     "execution_count": 5,
     "metadata": {},
     "output_type": "execute_result"
    }
   ],
   "source": [
    "# just like list we can access elements of numpy using indexing\n",
    "a[0]"
   ]
  },
  {
   "cell_type": "code",
   "execution_count": null,
   "id": "bdb31337",
   "metadata": {},
   "outputs": [],
   "source": [
    "# A multidimensional array in NumPy is like a supercharged list of numbers that can have multiple rows and columns, just \n",
    "# like a table. \n",
    "# Here's a simple way to understand it:\n",
    "# - A one-dimensional array is like a list of numbers.\n",
    "# - A two-dimensional array is like a table with rows and columns.\n",
    "# - A three-dimensional array is like a collection of tables stacked on top of each other.\n",
    "# You can keep adding dimensions to create even more complex structures. These multidimensional arrays are incredibly \n",
    "# useful for various mathematical and data manipulation tasks because they allow you to organize and work with data in\n",
    "# a structured way."
   ]
  },
  {
   "cell_type": "code",
   "execution_count": 2,
   "id": "73c4b78e",
   "metadata": {},
   "outputs": [
    {
     "data": {
      "text/plain": [
       "array([[1, 2, 3, 4],\n",
       "       [5, 6, 7, 8]])"
      ]
     },
     "execution_count": 2,
     "metadata": {},
     "output_type": "execute_result"
    }
   ],
   "source": [
    "# How to create two dimensional array containing row's and column\n",
    "# Creating a two-dimensional array (also known as a matrix) in NumPy is quite straightforward. You can use the numpy.array()\n",
    "# function or other NumPy functions like numpy.zeros() or numpy.ones().\n",
    "# Here are some examples:\n",
    "# 1.Using numpy.array():\n",
    "d = np.array([[1,2,3,4],[5,6,7,8]])\n",
    "d"
   ]
  },
  {
   "cell_type": "code",
   "execution_count": 3,
   "id": "64e27270",
   "metadata": {},
   "outputs": [
    {
     "data": {
      "text/plain": [
       "array([[0., 0., 0., 0.],\n",
       "       [0., 0., 0., 0.],\n",
       "       [0., 0., 0., 0.]])"
      ]
     },
     "execution_count": 3,
     "metadata": {},
     "output_type": "execute_result"
    }
   ],
   "source": [
    "# 2.Using numpy.zeros() to create an array filled with zeros:\n",
    "# Create a 2D array filled with zeros, for example, a 3x4 array\n",
    "zeros_array = np.zeros((3, 4))\n",
    "\n",
    "# Display the zeros array\n",
    "zeros_array"
   ]
  },
  {
   "cell_type": "code",
   "execution_count": 4,
   "id": "0431c6c7",
   "metadata": {},
   "outputs": [
    {
     "name": "stdout",
     "output_type": "stream",
     "text": [
      "[[1. 1.]\n",
      " [1. 1.]]\n"
     ]
    }
   ],
   "source": [
    "# Using numpy.ones() to create an array filled with ones\n",
    "# Create a 2D array filled with ones, for example, a 2x2 array\n",
    "ones_array = np.ones((2, 2))\n",
    "\n",
    "# Display the ones array\n",
    "print(ones_array)"
   ]
  },
  {
   "cell_type": "code",
   "execution_count": 4,
   "id": "bd8e3ef0",
   "metadata": {},
   "outputs": [
    {
     "data": {
      "text/plain": [
       "(2, 4)"
      ]
     },
     "execution_count": 4,
     "metadata": {},
     "output_type": "execute_result"
    }
   ],
   "source": [
    "d.shape #indicate that there are two row's and four column's"
   ]
  },
  {
   "cell_type": "code",
   "execution_count": 7,
   "id": "77981ff4",
   "metadata": {},
   "outputs": [
    {
     "data": {
      "text/plain": [
       "dtype('int32')"
      ]
     },
     "execution_count": 7,
     "metadata": {},
     "output_type": "execute_result"
    }
   ],
   "source": [
    "d.dtype # to see the data type of the values -- usme konsa data wo dekhane keliye -- show usme integer data hai\n",
    "# it shows ek element main kitna memory occupy kiya hai wo dikhata hai"
   ]
  },
  {
   "cell_type": "code",
   "execution_count": null,
   "id": "095323fa",
   "metadata": {},
   "outputs": [],
   "source": [
    "# In NumPy, the dtype (data type) function is used to specify and check the data type of elements stored in a NumPy array. \n",
    "# Each element in a NumPy array has a specific data type, which determines how the data is stored in memory and how it\n",
    "# behaves during mathematical operations."
   ]
  },
  {
   "cell_type": "code",
   "execution_count": 5,
   "id": "5e6e2b2f",
   "metadata": {},
   "outputs": [
    {
     "data": {
      "text/plain": [
       "array([1., 2., 3.])"
      ]
     },
     "execution_count": 5,
     "metadata": {},
     "output_type": "execute_result"
    }
   ],
   "source": [
    "# 1.Specify Data Type when Creating an Array:\n",
    "# You can specify the data type of the elements when creating a NumPy array using the dtype parameter. For example:\n",
    "# Create an array of integers\n",
    "int_array = np.array([1, 2, 3], dtype=np.int32)\n",
    "\n",
    "# Create an array of floating-point numbers\n",
    "float_array = np.array([1.0, 2.0, 3.0], dtype=np.float64)\n",
    "float_array"
   ]
  },
  {
   "cell_type": "code",
   "execution_count": 6,
   "id": "460719e7",
   "metadata": {},
   "outputs": [
    {
     "data": {
      "text/plain": [
       "dtype('int32')"
      ]
     },
     "execution_count": 6,
     "metadata": {},
     "output_type": "execute_result"
    }
   ],
   "source": [
    "# 2.Check the Data Type of an Existing Array:\n",
    "# You can use the dtype attribute to check the data type of an existing NumPy array:\n",
    "my_array = np.array([1, 2, 3])\n",
    "\n",
    "# Check the data type of my_array\n",
    "data_type = my_array.dtype\n",
    "data_type"
   ]
  },
  {
   "cell_type": "code",
   "execution_count": null,
   "id": "715d2f87",
   "metadata": {},
   "outputs": [],
   "source": [
    "# Common data types in NumPy include integers (int or uint for signed and unsigned integers), floating-point numbers \n",
    "# (float), complex numbers (complex), and others like bool, str, etc. Specifying the correct data type is important for\n",
    "# memory efficiency and ensuring that operations are performed correctly on the array's elements."
   ]
  },
  {
   "cell_type": "code",
   "execution_count": 8,
   "id": "e6d5e23e",
   "metadata": {},
   "outputs": [
    {
     "data": {
      "text/plain": [
       "4"
      ]
     },
     "execution_count": 8,
     "metadata": {},
     "output_type": "execute_result"
    }
   ],
   "source": [
    "# agar item size dekhana hai ki kitne byte ka hai then\n",
    "d.itemsize  # 1 byte = 8 bit  so 32 bit means 4 bytes"
   ]
  },
  {
   "cell_type": "code",
   "execution_count": null,
   "id": "e9f7a023",
   "metadata": {},
   "outputs": [],
   "source": [
    "# In NumPy, the itemsize attribute is used to determine the size (in bytes) of each element in a NumPy array. This can be\n",
    "# helpful when you want to know how much memory an array consumes or when you need to work with low-level memory operations."
   ]
  },
  {
   "cell_type": "code",
   "execution_count": 7,
   "id": "a88681f1",
   "metadata": {},
   "outputs": [
    {
     "data": {
      "text/plain": [
       "4"
      ]
     },
     "execution_count": 7,
     "metadata": {},
     "output_type": "execute_result"
    }
   ],
   "source": [
    "# Here's how you can use the itemsize attribute:\n",
    "# Create an array of integers\n",
    "my_array = np.array([1, 2, 3], dtype=np.int32)\n",
    "\n",
    "# Get the size of each element in bytes\n",
    "element_size = my_array.itemsize\n",
    "\n",
    "# Print the element size\n",
    "element_size\n",
    "# In this example, element_size will give you the size (in bytes) of each element in the my_array. This is particularly \n",
    "# useful when dealing with large arrays or when you need to interact with external libraries or memory management.\n",
    "# So here one element is consuming 4 bytes memory."
   ]
  },
  {
   "cell_type": "code",
   "execution_count": null,
   "id": "8c00b0d3",
   "metadata": {},
   "outputs": [],
   "source": [
    "# Keep in mind that different data types have different sizes, so the itemsize will vary depending on the data type you \n",
    "# specify for your array. For example, an array of 32-bit integers (np.int32) will have an itemsize of 4 bytes, while an\n",
    "# array of 64-bit floating-point numbers (np.float64) will have an itemsize of 8 bytes."
   ]
  },
  {
   "cell_type": "code",
   "execution_count": 11,
   "id": "f1b3a3d8",
   "metadata": {},
   "outputs": [
    {
     "data": {
      "text/plain": [
       "9"
      ]
     },
     "execution_count": 11,
     "metadata": {},
     "output_type": "execute_result"
    }
   ],
   "source": [
    "# In NumPy, the size attribute is used to determine the total number of elements in a NumPy array. It provides the count\n",
    "# of all the items in the array, regardless of its shape or dimensionality.\n",
    "# Here's how you can use the size attribute:\n",
    "\n",
    "# Create a 2D array (matrix)\n",
    "matrix1 = np.array([[1, 2, 3], [4, 5, 6], [7, 8, 9]])\n",
    "\n",
    "# Get the total number of elements in the matrix\n",
    "total_elements = matrix1.size\n",
    "\n",
    "# Print the total number of elements\n",
    "total_elements\n",
    "# In this example, total_elements will give you the count of all elements in the matrix, which is 9 in this case because\n",
    "# there are 9 numbers in the 3x3 matrix.\n",
    "# The size attribute is useful when you need to know the overall size of your NumPy array, especially when working with\n",
    "# larger datasets or when performing operations that depend on the total number of elements.\n",
    "# In short size attribute will give count of all element's in the numpy array."
   ]
  },
  {
   "cell_type": "code",
   "execution_count": 13,
   "id": "4daf4584",
   "metadata": {},
   "outputs": [
    {
     "data": {
      "text/plain": [
       "4"
      ]
     },
     "execution_count": 13,
     "metadata": {},
     "output_type": "execute_result"
    }
   ],
   "source": [
    "matrix1.itemsize"
   ]
  },
  {
   "cell_type": "code",
   "execution_count": 15,
   "id": "b4f023da",
   "metadata": {},
   "outputs": [
    {
     "data": {
      "text/plain": [
       "36"
      ]
     },
     "execution_count": 15,
     "metadata": {},
     "output_type": "execute_result"
    }
   ],
   "source": [
    "mem_con = matrix1.itemsize * matrix1.size\n",
    "mem_con"
   ]
  },
  {
   "cell_type": "code",
   "execution_count": 10,
   "id": "10405d1b",
   "metadata": {},
   "outputs": [
    {
     "data": {
      "text/plain": [
       "32"
      ]
     },
     "execution_count": 10,
     "metadata": {},
     "output_type": "execute_result"
    }
   ],
   "source": [
    "d.itemsize * d.size # This show's total number of bytes occupied "
   ]
  },
  {
   "cell_type": "code",
   "execution_count": 11,
   "id": "fd1422ea",
   "metadata": {},
   "outputs": [
    {
     "data": {
      "text/plain": [
       "array([[1, 2, 3, 4],\n",
       "       [5, 6, 7, 8]], dtype=int8)"
      ]
     },
     "execution_count": 11,
     "metadata": {},
     "output_type": "execute_result"
    }
   ],
   "source": [
    "# we have controll over the size for eg we can specify here byte\n",
    "b = np.array([[1,2,3,4],[5,6,7,8]],dtype = 'int8')\n",
    "b # means size it occupied is controlled here"
   ]
  },
  {
   "cell_type": "code",
   "execution_count": 12,
   "id": "dc465d32",
   "metadata": {},
   "outputs": [
    {
     "data": {
      "text/plain": [
       "dtype('int8')"
      ]
     },
     "execution_count": 12,
     "metadata": {},
     "output_type": "execute_result"
    }
   ],
   "source": [
    "b.dtype"
   ]
  },
  {
   "cell_type": "code",
   "execution_count": 13,
   "id": "bb70702b",
   "metadata": {},
   "outputs": [
    {
     "data": {
      "text/plain": [
       "1"
      ]
     },
     "execution_count": 13,
     "metadata": {},
     "output_type": "execute_result"
    }
   ],
   "source": [
    "b.itemsize # here one element ne 1 byte consume kiya"
   ]
  },
  {
   "cell_type": "code",
   "execution_count": 14,
   "id": "bfcb252c",
   "metadata": {},
   "outputs": [
    {
     "data": {
      "text/plain": [
       "8"
      ]
     },
     "execution_count": 14,
     "metadata": {},
     "output_type": "execute_result"
    }
   ],
   "source": [
    "b.size * b.itemsize # total bytes consume by the array are 8 as one item consume one byte -- so in array memory consumption\n",
    "# can be controlled which is not possible in the list"
   ]
  },
  {
   "cell_type": "code",
   "execution_count": 15,
   "id": "1bda661a",
   "metadata": {},
   "outputs": [
    {
     "data": {
      "text/plain": [
       "28"
      ]
     },
     "execution_count": 15,
     "metadata": {},
     "output_type": "execute_result"
    }
   ],
   "source": [
    "# let's see memory consume by the list\n",
    "import sys\n",
    "temp = [23,45,67,43,76,98,23]\n",
    "sys.getsizeof(23) # so here one value consume 28 bytes that's why numpy array is preferable"
   ]
  },
  {
   "cell_type": "code",
   "execution_count": 16,
   "id": "ef6f392f",
   "metadata": {},
   "outputs": [
    {
     "data": {
      "text/plain": [
       "196"
      ]
     },
     "execution_count": 16,
     "metadata": {},
     "output_type": "execute_result"
    }
   ],
   "source": [
    "sys.getsizeof(23)*len(temp) # so in total the entire list consume 196 bytes -- so list is heavy weight"
   ]
  },
  {
   "cell_type": "code",
   "execution_count": null,
   "id": "a49c687f",
   "metadata": {},
   "outputs": [],
   "source": [
    "# 8 bit's means 1 byte for eg here 1  can be place in 1 byte also in 2 byte also in 3 bytes\n",
    "1 byte = 0 0 0 0 0 0 0 1\n",
    "2 byte = 0 0 0 0 0 0 0 0 0 0 0 0 0 0 0 0 0 1\n",
    "3 byte = 0 0 0 0 0 0 0 0 0 0 0 0 0 0 0 0 0 0 0 0 0 0 0 0 0 1 # This is unnecessary\n",
    "# just bit's are increasing nothing else"
   ]
  },
  {
   "cell_type": "code",
   "execution_count": 17,
   "id": "0ad8bff3",
   "metadata": {},
   "outputs": [
    {
     "data": {
      "text/plain": [
       "2"
      ]
     },
     "execution_count": 17,
     "metadata": {},
     "output_type": "execute_result"
    }
   ],
   "source": [
    "# how to check dimension of array\n",
    "b.ndim # so it gives result that 2 dimension data"
   ]
  },
  {
   "cell_type": "code",
   "execution_count": null,
   "id": "74eaaa1f",
   "metadata": {},
   "outputs": [],
   "source": [
    "# In the context of arrays and data structures, a dimension refers to a specific axis along which data is organized. It \n",
    "# represents one direction along which elements are arranged within the array.\n",
    "# In simpler terms:\n",
    "# A one-dimensional array is like a list, where elements are arranged along a single line. You can think of it as a row of\n",
    "# elements.\n",
    "# A two-dimensional array is like a table or grid, where elements are arranged in rows and columns. It has two dimensions:\n",
    "#     rows and columns.\n",
    "# A three-dimensional array is like a cube or a collection of stacked tables, where elements are organized in rows, columns,\n",
    "# and layers. It has three dimensions: rows, columns, and depth.\n",
    "# You can keep adding dimensions to create higher-dimensional arrays, which can represent more complex structures in data.\n",
    "# Dimensions are essential because they define the structure and organization of data within an array. Depending on the \n",
    "# dimensionality of an array, you can perform various operations and manipulations to analyze and work with the data \n",
    "# effectively. For example, in NumPy, you can use dimensions to access specific elements, slice arrays, and perform \n",
    "# mathematical operations along specific axes."
   ]
  },
  {
   "cell_type": "code",
   "execution_count": null,
   "id": "27553bab",
   "metadata": {},
   "outputs": [],
   "source": [
    "# DF is collection of row's and column with default indexes( indices ) but actual data column name and index line exclude\n",
    "# karke jo bachata hai wo hota hai it's nothing but matrix isiko hum (only numerical data -- koi column name nahi kuch nahi\n",
    "# usko column name kuch pata nahi hota ML algorithm ko wo just aapka jo numerical data hai uspehi algorithm apply karta hai)\n",
    "# ML algorithm ko pass karte hai. To ye numerical data of DF excluding column name and index is nothing but matrix(row & \n",
    "# colum) eg [1,2,3,4],[5,6,7,8] so here this is rows and columns to ispe operation karna hai to at the end hume numpy array\n",
    "# -pehi operation karna padta hai agar nahi karte ho to ML algorithm usko inbuild convert karkehi leta hai."
   ]
  },
  {
   "cell_type": "code",
   "execution_count": 20,
   "id": "49c69b45",
   "metadata": {},
   "outputs": [
    {
     "data": {
      "text/plain": [
       "array([5, 6, 7, 8], dtype=int8)"
      ]
     },
     "execution_count": 20,
     "metadata": {},
     "output_type": "execute_result"
    }
   ],
   "source": [
    "# Manlo hume kuch data ko access karna hai for eg specific element hogaya row hogaya column hogaya to same like jaise list \n",
    "# mein DF main karte the same waisehi karenge\n",
    "# Agar mujhe specific element chahiye to yahape row's and column wala funda hai eg b[row,column]\n",
    "b[1,:] # 1st row humne access kiya agar"
   ]
  },
  {
   "cell_type": "code",
   "execution_count": 23,
   "id": "0774a9d5",
   "metadata": {},
   "outputs": [
    {
     "data": {
      "text/plain": [
       "array([7, 8], dtype=int8)"
      ]
     },
     "execution_count": 23,
     "metadata": {},
     "output_type": "execute_result"
    }
   ],
   "source": [
    "# agar hume 0 row access karna hai to\n",
    "b[1,2:]"
   ]
  },
  {
   "cell_type": "code",
   "execution_count": 24,
   "id": "66c1e599",
   "metadata": {},
   "outputs": [
    {
     "data": {
      "text/plain": [
       "7"
      ]
     },
     "execution_count": 24,
     "metadata": {},
     "output_type": "execute_result"
    }
   ],
   "source": [
    "# Now I want to access 7 then how to do that\n",
    "b[1,2]"
   ]
  },
  {
   "cell_type": "code",
   "execution_count": 25,
   "id": "17f01ce4",
   "metadata": {},
   "outputs": [
    {
     "data": {
      "text/plain": [
       "4"
      ]
     },
     "execution_count": 25,
     "metadata": {},
     "output_type": "execute_result"
    }
   ],
   "source": [
    "# How to acess 4\n",
    "b[0,3]"
   ]
  },
  {
   "cell_type": "code",
   "execution_count": 27,
   "id": "7ff0d007",
   "metadata": {},
   "outputs": [
    {
     "data": {
      "text/plain": [
       "array([1. , 2. , 3. , 4. , 5.3, 6. ])"
      ]
     },
     "execution_count": 27,
     "metadata": {},
     "output_type": "execute_result"
    }
   ],
   "source": [
    "# if in list we pass one value as float and remaining as int then by default other value will be converted into float\n",
    "d = [1,2,3,4,5.3,6]\n",
    "f = np.array(d)\n",
    "f"
   ]
  },
  {
   "cell_type": "code",
   "execution_count": null,
   "id": "ed831af3",
   "metadata": {},
   "outputs": [],
   "source": [
    "# In numpy data will be always in the numerical form in the case of ML\n",
    "# categorical data hai eg city hai to hum city ko encode karte hai number main, mmanlo gender hai to iskobhi hum encode \n",
    "# karte hai 1 or 0 -- to  always hum machine laerning ko hum numerical data dete hai -- categorical data nahi jata"
   ]
  },
  {
   "cell_type": "code",
   "execution_count": 28,
   "id": "ee4e3b21",
   "metadata": {},
   "outputs": [
    {
     "data": {
      "text/plain": [
       "array([[[1, 2, 3],\n",
       "        [4, 5, 6],\n",
       "        [7, 8, 9]]])"
      ]
     },
     "execution_count": 28,
     "metadata": {},
     "output_type": "execute_result"
    }
   ],
   "source": [
    "# How to create 3D numpy array\n",
    "a = np.array([[[1,2,3],[4,5,6],[7,8,9]]])\n",
    "a"
   ]
  },
  {
   "cell_type": "code",
   "execution_count": 29,
   "id": "53da8344",
   "metadata": {},
   "outputs": [
    {
     "data": {
      "text/plain": [
       "3"
      ]
     },
     "execution_count": 29,
     "metadata": {},
     "output_type": "execute_result"
    }
   ],
   "source": [
    "a.ndim # so here three dimensional data create hua"
   ]
  },
  {
   "cell_type": "code",
   "execution_count": 31,
   "id": "c2532ef0",
   "metadata": {},
   "outputs": [
    {
     "data": {
      "text/plain": [
       "5"
      ]
     },
     "execution_count": 31,
     "metadata": {},
     "output_type": "execute_result"
    }
   ],
   "source": [
    "a[0,1,1]"
   ]
  },
  {
   "cell_type": "code",
   "execution_count": 33,
   "id": "cacbada6",
   "metadata": {},
   "outputs": [
    {
     "data": {
      "text/plain": [
       "array([[[ 1,  2,  3],\n",
       "        [ 4,  5,  6]],\n",
       "\n",
       "       [[11, 22, 33],\n",
       "        [ 7,  8,  9]]])"
      ]
     },
     "execution_count": 33,
     "metadata": {},
     "output_type": "execute_result"
    }
   ],
   "source": [
    "b = np.array([[[1,2,3],[4,5,6]],[[11,22,33],[7,8,9]]])\n",
    "b"
   ]
  },
  {
   "cell_type": "code",
   "execution_count": 35,
   "id": "b672a948",
   "metadata": {},
   "outputs": [
    {
     "data": {
      "text/plain": [
       "5"
      ]
     },
     "execution_count": 35,
     "metadata": {},
     "output_type": "execute_result"
    }
   ],
   "source": [
    "a[0,1,1] # because it is like box front square contain 1 st matrix and backside box contain 2nd matrix\n",
    "# front square 1 st matrix contain 1,2,3,4,5,6 and back square 2nd matrix contain 11,22,33,7,8,9 \n",
    "# so index of front matrix is 0 and back matrix is 1\n",
    "# index of rows inside first matrix is 0 and 1 while index of column's are 0,1,2\n",
    "# FOR EG. [index1, index2, index3]  -- index1 indicate position of matrix, index2 indicate position of rows, \n",
    "# index3 indicate position column\n",
    "# so if I want to access 5 then how I will access it -- it is in 1st matrix 2nd row's , 2nd column.\n",
    "b[0,1,1]"
   ]
  },
  {
   "cell_type": "code",
   "execution_count": 36,
   "id": "8cae0365",
   "metadata": {},
   "outputs": [
    {
     "data": {
      "text/plain": [
       "9"
      ]
     },
     "execution_count": 36,
     "metadata": {},
     "output_type": "execute_result"
    }
   ],
   "source": [
    "# How to access 9\n",
    "b[1,1,2]"
   ]
  },
  {
   "cell_type": "code",
   "execution_count": 38,
   "id": "5ecbcd24",
   "metadata": {},
   "outputs": [
    {
     "data": {
      "text/plain": [
       "array([[1., 1.],\n",
       "       [1., 1.]])"
      ]
     },
     "execution_count": 38,
     "metadata": {},
     "output_type": "execute_result"
    }
   ],
   "source": [
    "# Generally jab kabhi hume kuch matrix calculation karna hai tab kuch inbuild matrix rehate hai wo useful rehate hai jaise\n",
    "# manlo aapko once wala, zeros wala ya identity matrix create karna hai to ye bahot useful hota hai kabhi kabhi\n",
    "# agar koi DF hai usko transform karna hai ya multiply karna hai matrix se tab use hota hai\n",
    "# for eg\n",
    "a = np.ones((2,2)) # 2 dimensional data\n",
    "a "
   ]
  },
  {
   "cell_type": "code",
   "execution_count": 39,
   "id": "f6124251",
   "metadata": {},
   "outputs": [
    {
     "data": {
      "text/plain": [
       "array([[1, 1],\n",
       "       [1, 1]])"
      ]
     },
     "execution_count": 39,
     "metadata": {},
     "output_type": "execute_result"
    }
   ],
   "source": [
    "# by default ye float wala de raha hai but mujhe integer wala chahiye then how\n",
    "a = np.ones((2,2),dtype='int')\n",
    "a"
   ]
  },
  {
   "cell_type": "code",
   "execution_count": 41,
   "id": "c4c96592",
   "metadata": {},
   "outputs": [
    {
     "data": {
      "text/plain": [
       "array([[[1, 1],\n",
       "        [1, 1]],\n",
       "\n",
       "       [[1, 1],\n",
       "        [1, 1]],\n",
       "\n",
       "       [[1, 1],\n",
       "        [1, 1]]])"
      ]
     },
     "execution_count": 41,
     "metadata": {},
     "output_type": "execute_result"
    }
   ],
   "source": [
    "# How to do three dimension\n",
    "a = np.ones((3,2,2),dtype='int')\n",
    "a"
   ]
  },
  {
   "cell_type": "code",
   "execution_count": 42,
   "id": "c39e5055",
   "metadata": {},
   "outputs": [
    {
     "data": {
      "text/plain": [
       "array([[1, 1, 1, 1],\n",
       "       [1, 1, 1, 1],\n",
       "       [1, 1, 1, 1],\n",
       "       [1, 1, 1, 1]])"
      ]
     },
     "execution_count": 42,
     "metadata": {},
     "output_type": "execute_result"
    }
   ],
   "source": [
    "# mujhe once wala matrix chahiye 4 dimensionka then how\n",
    "a = np.ones((4,4),dtype='int')\n",
    "a"
   ]
  },
  {
   "cell_type": "code",
   "execution_count": 43,
   "id": "d6fda5f4",
   "metadata": {},
   "outputs": [
    {
     "data": {
      "text/plain": [
       "array([[20, 20, 20],\n",
       "       [20, 20, 20],\n",
       "       [20, 20, 20]])"
      ]
     },
     "execution_count": 43,
     "metadata": {},
     "output_type": "execute_result"
    }
   ],
   "source": [
    "# agar mujhe 3 by 3 ka matrix chahiye or sabme 20 values chahiye then how\n",
    "np.full((3,3),20)"
   ]
  },
  {
   "cell_type": "code",
   "execution_count": 44,
   "id": "e333fbe0",
   "metadata": {},
   "outputs": [
    {
     "data": {
      "text/plain": [
       "array([[0.12203719, 0.41873767, 0.70927747],\n",
       "       [0.3074153 , 0.53712888, 0.4874955 ],\n",
       "       [0.53751528, 0.81207208, 0.46052553]])"
      ]
     },
     "execution_count": 44,
     "metadata": {},
     "output_type": "execute_result"
    }
   ],
   "source": [
    "# Generally numpy main integer or flaot ka hi data rehata hai\n",
    "# Agar aapko koi random wala matrix chahiye to \n",
    "np.random.rand(3,3)"
   ]
  },
  {
   "cell_type": "code",
   "execution_count": 45,
   "id": "ed434d4a",
   "metadata": {},
   "outputs": [
    {
     "data": {
      "text/plain": [
       "array([[2, 2, 2],\n",
       "       [2, 2, 2],\n",
       "       [2, 2, 2]])"
      ]
     },
     "execution_count": 45,
     "metadata": {},
     "output_type": "execute_result"
    }
   ],
   "source": [
    "# what if I want matrix in the integer using random\n",
    "np.random.randint(2,3,size=(3,3))"
   ]
  },
  {
   "cell_type": "code",
   "execution_count": 46,
   "id": "ee4efd3b",
   "metadata": {},
   "outputs": [
    {
     "data": {
      "text/plain": [
       "array([[1., 0., 0., 0.],\n",
       "       [0., 1., 0., 0.],\n",
       "       [0., 0., 1., 0.],\n",
       "       [0., 0., 0., 1.]])"
      ]
     },
     "execution_count": 46,
     "metadata": {},
     "output_type": "execute_result"
    }
   ],
   "source": [
    "# Identity matrix create karna hai to np.identity\n",
    "np.identity(4)"
   ]
  },
  {
   "cell_type": "code",
   "execution_count": 47,
   "id": "e22e1cb8",
   "metadata": {},
   "outputs": [
    {
     "data": {
      "text/plain": [
       "array([[2, 2, 2, 2],\n",
       "       [2, 2, 2, 2],\n",
       "       [2, 2, 2, 2],\n",
       "       [2, 2, 2, 2]])"
      ]
     },
     "execution_count": 47,
     "metadata": {},
     "output_type": "execute_result"
    }
   ],
   "source": [
    "a+1 # like this we can perform operation on the matrix so the value of entire matrix changes."
   ]
  },
  {
   "cell_type": "code",
   "execution_count": 48,
   "id": "86182582",
   "metadata": {},
   "outputs": [
    {
     "data": {
      "text/plain": [
       "array([[313, 220, 582],\n",
       "       [517, 560, 520],\n",
       "       [221, 539, 271]])"
      ]
     },
     "execution_count": 48,
     "metadata": {},
     "output_type": "execute_result"
    }
   ],
   "source": [
    "temp = np.random.randint(200,600,size=(3,3))\n",
    "temp"
   ]
  },
  {
   "cell_type": "code",
   "execution_count": 49,
   "id": "8b912101",
   "metadata": {},
   "outputs": [
    {
     "data": {
      "text/plain": [
       "582"
      ]
     },
     "execution_count": 49,
     "metadata": {},
     "output_type": "execute_result"
    }
   ],
   "source": [
    "# how to get max value from the above matrix -- applying statistic's on matrix\n",
    "np.max(temp)"
   ]
  },
  {
   "cell_type": "code",
   "execution_count": 50,
   "id": "18af4647",
   "metadata": {},
   "outputs": [
    {
     "data": {
      "text/plain": [
       "220"
      ]
     },
     "execution_count": 50,
     "metadata": {},
     "output_type": "execute_result"
    }
   ],
   "source": [
    "np.min(temp) # to get min"
   ]
  },
  {
   "cell_type": "code",
   "execution_count": 51,
   "id": "b857e606",
   "metadata": {},
   "outputs": [
    {
     "data": {
      "text/plain": [
       "3743"
      ]
     },
     "execution_count": 51,
     "metadata": {},
     "output_type": "execute_result"
    }
   ],
   "source": [
    "np.sum(temp) # to get sum"
   ]
  },
  {
   "cell_type": "code",
   "execution_count": 52,
   "id": "74b077ee",
   "metadata": {},
   "outputs": [
    {
     "data": {
      "text/plain": [
       "2"
      ]
     },
     "execution_count": 52,
     "metadata": {},
     "output_type": "execute_result"
    }
   ],
   "source": [
    "np.argmax(temp)"
   ]
  },
  {
   "cell_type": "code",
   "execution_count": 53,
   "id": "d7a44a1f",
   "metadata": {},
   "outputs": [
    {
     "data": {
      "text/plain": [
       "array([[313, 220, 582, 517, 560, 520, 221, 539, 271]])"
      ]
     },
     "execution_count": 53,
     "metadata": {},
     "output_type": "execute_result"
    }
   ],
   "source": [
    "# mainly numpy main jyada use hone wala function hai wo hai shape -- reshape karna \n",
    "# suppose temp matrix ka size 3 by 3 hai to iska multiplication ka jitnabhi hota hai for 3*3 = 9 hota hai to iske \n",
    "# combination main iska reshape ho sakta hai means what one by nine(1,9) , nine by one(9,1) ho sakta hai -- how to do that\n",
    "# suppose mujhe one by nine reshape karna hai then how\n",
    "temp.reshape(1,9)"
   ]
  },
  {
   "cell_type": "code",
   "execution_count": 54,
   "id": "ebbc0850",
   "metadata": {},
   "outputs": [
    {
     "data": {
      "text/plain": [
       "array([[313],\n",
       "       [220],\n",
       "       [582],\n",
       "       [517],\n",
       "       [560],\n",
       "       [520],\n",
       "       [221],\n",
       "       [539],\n",
       "       [271]])"
      ]
     },
     "execution_count": 54,
     "metadata": {},
     "output_type": "execute_result"
    }
   ],
   "source": [
    "# create (9,1)\n",
    "temp.reshape(9,1)"
   ]
  },
  {
   "cell_type": "code",
   "execution_count": 55,
   "id": "9ac60ea7",
   "metadata": {},
   "outputs": [
    {
     "data": {
      "text/plain": [
       "[array([313, 220, 582]), array([517, 560, 520]), array([221, 539, 271])]"
      ]
     },
     "execution_count": 55,
     "metadata": {},
     "output_type": "execute_result"
    }
   ],
   "source": [
    "# How to convert this array into list -- use type casting\n",
    "list(temp) # now we can perform list operation's on it"
   ]
  },
  {
   "cell_type": "code",
   "execution_count": 57,
   "id": "3844b009",
   "metadata": {},
   "outputs": [
    {
     "data": {
      "text/plain": [
       "array([0, 1, 2, 3, 4, 5, 6, 7, 8, 9])"
      ]
     },
     "execution_count": 57,
     "metadata": {},
     "output_type": "execute_result"
    }
   ],
   "source": [
    "# arrange bhi kar sakte hai\n",
    "a = np.arange(10)\n",
    "a"
   ]
  },
  {
   "cell_type": "code",
   "execution_count": 58,
   "id": "c192f9bb",
   "metadata": {},
   "outputs": [
    {
     "data": {
      "text/plain": [
       "(array([5, 6, 7, 8, 9], dtype=int64),)"
      ]
     },
     "execution_count": 58,
     "metadata": {},
     "output_type": "execute_result"
    }
   ],
   "source": [
    "# ab manlo mujhe element ka index chahiye -- suppose mujhe a main se 4 se greater element ka index chahiye not a element\n",
    "np.where(a>4) # So in output I will get index of elements who are greater than 4 and not the element's itself"
   ]
  },
  {
   "cell_type": "code",
   "execution_count": 59,
   "id": "bec837cb",
   "metadata": {},
   "outputs": [
    {
     "data": {
      "text/plain": [
       "array([ 34, 745,  24,  75,  34,  86, 354,  97,  35,  97])"
      ]
     },
     "execution_count": 59,
     "metadata": {},
     "output_type": "execute_result"
    }
   ],
   "source": [
    "a = np.array([34,745,24,75,34,86,354,97,35,97])\n",
    "a"
   ]
  },
  {
   "cell_type": "code",
   "execution_count": 60,
   "id": "48ba1f53",
   "metadata": {},
   "outputs": [
    {
     "data": {
      "text/plain": [
       "(array([1, 3, 5, 6, 7, 9], dtype=int64),)"
      ]
     },
     "execution_count": 60,
     "metadata": {},
     "output_type": "execute_result"
    }
   ],
   "source": [
    "np.where(a>45) # so in output it is giving the index number and not the value's"
   ]
  },
  {
   "cell_type": "code",
   "execution_count": 61,
   "id": "d741d835",
   "metadata": {},
   "outputs": [],
   "source": [
    "import pandas as pd"
   ]
  },
  {
   "cell_type": "code",
   "execution_count": 63,
   "id": "f1b6ddd8",
   "metadata": {},
   "outputs": [
    {
     "data": {
      "text/html": [
       "<div>\n",
       "<style scoped>\n",
       "    .dataframe tbody tr th:only-of-type {\n",
       "        vertical-align: middle;\n",
       "    }\n",
       "\n",
       "    .dataframe tbody tr th {\n",
       "        vertical-align: top;\n",
       "    }\n",
       "\n",
       "    .dataframe thead th {\n",
       "        text-align: right;\n",
       "    }\n",
       "</style>\n",
       "<table border=\"1\" class=\"dataframe\">\n",
       "  <thead>\n",
       "    <tr style=\"text-align: right;\">\n",
       "      <th></th>\n",
       "      <th>name</th>\n",
       "      <th>id</th>\n",
       "    </tr>\n",
       "  </thead>\n",
       "  <tbody>\n",
       "    <tr>\n",
       "      <th>0</th>\n",
       "      <td>sdf</td>\n",
       "      <td>101</td>\n",
       "    </tr>\n",
       "    <tr>\n",
       "      <th>1</th>\n",
       "      <td>asdf</td>\n",
       "      <td>102</td>\n",
       "    </tr>\n",
       "    <tr>\n",
       "      <th>2</th>\n",
       "      <td>asdf</td>\n",
       "      <td>103</td>\n",
       "    </tr>\n",
       "  </tbody>\n",
       "</table>\n",
       "</div>"
      ],
      "text/plain": [
       "   name   id\n",
       "0   sdf  101\n",
       "1  asdf  102\n",
       "2  asdf  103"
      ]
     },
     "execution_count": 63,
     "metadata": {},
     "output_type": "execute_result"
    }
   ],
   "source": [
    "df = pd.DataFrame({'name':['sdf','asdf','asdf'],\n",
    "                  'id':[101,102,103]})\n",
    "df"
   ]
  },
  {
   "cell_type": "code",
   "execution_count": 66,
   "id": "1c14f74b",
   "metadata": {},
   "outputs": [],
   "source": [
    "# Now isko mujhe ek numpy array karna hai then \n",
    "p = pd.Series([11,2,3],name = 'test')"
   ]
  },
  {
   "cell_type": "code",
   "execution_count": 67,
   "id": "0a0e1a5f",
   "metadata": {},
   "outputs": [
    {
     "data": {
      "text/html": [
       "<div>\n",
       "<style scoped>\n",
       "    .dataframe tbody tr th:only-of-type {\n",
       "        vertical-align: middle;\n",
       "    }\n",
       "\n",
       "    .dataframe tbody tr th {\n",
       "        vertical-align: top;\n",
       "    }\n",
       "\n",
       "    .dataframe thead th {\n",
       "        text-align: right;\n",
       "    }\n",
       "</style>\n",
       "<table border=\"1\" class=\"dataframe\">\n",
       "  <thead>\n",
       "    <tr style=\"text-align: right;\">\n",
       "      <th></th>\n",
       "      <th>name</th>\n",
       "      <th>id</th>\n",
       "      <th>test</th>\n",
       "    </tr>\n",
       "  </thead>\n",
       "  <tbody>\n",
       "    <tr>\n",
       "      <th>0</th>\n",
       "      <td>sdf</td>\n",
       "      <td>101</td>\n",
       "      <td>11</td>\n",
       "    </tr>\n",
       "    <tr>\n",
       "      <th>1</th>\n",
       "      <td>asdf</td>\n",
       "      <td>102</td>\n",
       "      <td>2</td>\n",
       "    </tr>\n",
       "    <tr>\n",
       "      <th>2</th>\n",
       "      <td>asdf</td>\n",
       "      <td>103</td>\n",
       "      <td>3</td>\n",
       "    </tr>\n",
       "  </tbody>\n",
       "</table>\n",
       "</div>"
      ],
      "text/plain": [
       "   name   id  test\n",
       "0   sdf  101    11\n",
       "1  asdf  102     2\n",
       "2  asdf  103     3"
      ]
     },
     "execution_count": 67,
     "metadata": {},
     "output_type": "execute_result"
    }
   ],
   "source": [
    "pd.concat([df,p],axis=1)"
   ]
  },
  {
   "cell_type": "code",
   "execution_count": null,
   "id": "4d523bb3",
   "metadata": {},
   "outputs": [],
   "source": [
    "# Now that will be converted into Series\n",
    "temp = pd.concat(np.array(3))"
   ]
  },
  {
   "cell_type": "code",
   "execution_count": 68,
   "id": "4cba5d19",
   "metadata": {},
   "outputs": [],
   "source": [
    "temp = np.array([45,754,35])"
   ]
  },
  {
   "cell_type": "code",
   "execution_count": 69,
   "id": "87c76355",
   "metadata": {},
   "outputs": [
    {
     "data": {
      "text/plain": [
       "array([ 45, 754,  35])"
      ]
     },
     "execution_count": 69,
     "metadata": {},
     "output_type": "execute_result"
    }
   ],
   "source": [
    "temp"
   ]
  },
  {
   "cell_type": "code",
   "execution_count": 70,
   "id": "a38d97fa",
   "metadata": {},
   "outputs": [
    {
     "data": {
      "text/plain": [
       "0     45\n",
       "1    754\n",
       "2     35\n",
       "Name: testd, dtype: int32"
      ]
     },
     "execution_count": 70,
     "metadata": {},
     "output_type": "execute_result"
    }
   ],
   "source": [
    "pd.Series(temp,name='testd')"
   ]
  },
  {
   "cell_type": "code",
   "execution_count": 72,
   "id": "0c08b31b",
   "metadata": {},
   "outputs": [
    {
     "data": {
      "text/html": [
       "<div>\n",
       "<style scoped>\n",
       "    .dataframe tbody tr th:only-of-type {\n",
       "        vertical-align: middle;\n",
       "    }\n",
       "\n",
       "    .dataframe tbody tr th {\n",
       "        vertical-align: top;\n",
       "    }\n",
       "\n",
       "    .dataframe thead th {\n",
       "        text-align: right;\n",
       "    }\n",
       "</style>\n",
       "<table border=\"1\" class=\"dataframe\">\n",
       "  <thead>\n",
       "    <tr style=\"text-align: right;\">\n",
       "      <th></th>\n",
       "      <th>name</th>\n",
       "      <th>id</th>\n",
       "      <th>testd</th>\n",
       "    </tr>\n",
       "  </thead>\n",
       "  <tbody>\n",
       "    <tr>\n",
       "      <th>0</th>\n",
       "      <td>sdf</td>\n",
       "      <td>101</td>\n",
       "      <td>45</td>\n",
       "    </tr>\n",
       "    <tr>\n",
       "      <th>1</th>\n",
       "      <td>asdf</td>\n",
       "      <td>102</td>\n",
       "      <td>754</td>\n",
       "    </tr>\n",
       "    <tr>\n",
       "      <th>2</th>\n",
       "      <td>asdf</td>\n",
       "      <td>103</td>\n",
       "      <td>35</td>\n",
       "    </tr>\n",
       "  </tbody>\n",
       "</table>\n",
       "</div>"
      ],
      "text/plain": [
       "   name   id  testd\n",
       "0   sdf  101     45\n",
       "1  asdf  102    754\n",
       "2  asdf  103     35"
      ]
     },
     "execution_count": 72,
     "metadata": {},
     "output_type": "execute_result"
    }
   ],
   "source": [
    "pd.concat([df,pd.Series(temp,name='testd')],axis=1)"
   ]
  },
  {
   "cell_type": "code",
   "execution_count": null,
   "id": "3aad1199",
   "metadata": {},
   "outputs": [],
   "source": [
    "# Numpy array ko humne pehale series main convert kiya fir usko concat kiya df "
   ]
  },
  {
   "cell_type": "markdown",
   "id": "a1e6ebd6",
   "metadata": {},
   "source": [
    "# Numpy By WSCubeTech"
   ]
  },
  {
   "cell_type": "code",
   "execution_count": null,
   "id": "fcfc4f82",
   "metadata": {},
   "outputs": [],
   "source": [
    "# Numpy is a scientific package for mathematical calculation \n",
    "# Numpy gives you a multidimensional array\n",
    "# Numpy is faster than the list\n",
    "# Numpy is a python package jiske under hum numpy create karte hai\n",
    "# Array is a grid jo value ko contain karti hai bahot sari information jobhi aapke pass data hai un data ko collect karneka\n",
    "# kam karti hai.\n",
    "# There are multiple types of the array like one dimensional, two dimensional, three dimensional, multidimensional array\n",
    "# Although array looks like a list but there was a fundamental difference between both of them.\n",
    "# Array looklike matrix.\n",
    "# one D Array == [1 2 3 4] -- see SS wscubetech 1st lec 5.12\n",
    "# array = [1 2 3 4]\n",
    "          [5 6 7 8]\n",
    "          [9 0 0 9]\n",
    "# here shape is (count_of_axis_0, count_of_axis_1)  i.e 3 rows and 4 columns so shape(3,4)\n",
    "# [1 2 3 4] here shape will be shhape(4,)\n",
    "# 3 dimensional array shape(4,3,2)\n",
    "\n",
    "# ADVANTAGES OF USING NUMPY ARRAYS OVER LIST\n",
    "# -- consumes less memory\n",
    "# -- fast as compared to python list\n",
    "# -- convenient to use\n",
    "\n",
    "# list = [1,2,3,4]\n",
    "# array = [1 2 3 4]\n",
    "# list is comma seperated while array is not comma seperated"
   ]
  },
  {
   "cell_type": "code",
   "execution_count": 1,
   "id": "cfa0c563",
   "metadata": {},
   "outputs": [
    {
     "name": "stdout",
     "output_type": "stream",
     "text": [
      "Requirement already satisfied: numpy in c:\\users\\sanke\\anaconda3\\lib\\site-packages (1.25.2)\n",
      "Note: you may need to restart the kernel to use updated packages.\n"
     ]
    },
    {
     "name": "stderr",
     "output_type": "stream",
     "text": [
      "WARNING: Ignoring invalid distribution -atplotlib (c:\\users\\sanke\\anaconda3\\lib\\site-packages)\n",
      "WARNING: Ignoring invalid distribution -atplotlib (c:\\users\\sanke\\anaconda3\\lib\\site-packages)\n"
     ]
    }
   ],
   "source": [
    "pip install numpy"
   ]
  },
  {
   "cell_type": "code",
   "execution_count": 2,
   "id": "09cf3dc0",
   "metadata": {},
   "outputs": [],
   "source": [
    "import numpy as np"
   ]
  },
  {
   "cell_type": "code",
   "execution_count": 6,
   "id": "51dbe752",
   "metadata": {},
   "outputs": [
    {
     "name": "stdout",
     "output_type": "stream",
     "text": [
      "[1 2 3 4]\n"
     ]
    },
    {
     "data": {
      "text/plain": [
       "numpy.ndarray"
      ]
     },
     "execution_count": 6,
     "metadata": {},
     "output_type": "execute_result"
    }
   ],
   "source": [
    "# How to create array in the numpy\n",
    "x = np.array([1,2,3,4])\n",
    "print(x)\n",
    "type(x)"
   ]
  },
  {
   "cell_type": "code",
   "execution_count": 8,
   "id": "c5be9343",
   "metadata": {},
   "outputs": [
    {
     "name": "stdout",
     "output_type": "stream",
     "text": [
      "[1, 2, 3, 4]\n"
     ]
    },
    {
     "data": {
      "text/plain": [
       "list"
      ]
     },
     "execution_count": 8,
     "metadata": {},
     "output_type": "execute_result"
    }
   ],
   "source": [
    "# list created here\n",
    "y = [1,2,3,4]\n",
    "print(y)\n",
    "type(y)"
   ]
  },
  {
   "cell_type": "code",
   "execution_count": null,
   "id": "17716183",
   "metadata": {},
   "outputs": [],
   "source": [
    "# IMPORTANCE OF NUMPY IN PYTHON\n",
    "# -- jab hume bahot jyada mathematical calculations perform karne hote hai tab hum numpy arraay use karte hai instead of lst\n",
    "# -- it supplies an enormous library of high-level mathematical functionss that operate on these arrays and matrices.\n",
    "# -- mathematical, logical, shape manipulation, sorting, selecting, I/O, discrete Fourier transforms, basic linear algebra,\n",
    "#    basic statistical operations and much more can be done with the help of the numpy.\n",
    "# -- huge use in the ML."
   ]
  },
  {
   "cell_type": "code",
   "execution_count": 1,
   "id": "362e9df9",
   "metadata": {},
   "outputs": [],
   "source": [
    "import numpy as np"
   ]
  },
  {
   "cell_type": "code",
   "execution_count": 3,
   "id": "d7572664",
   "metadata": {},
   "outputs": [
    {
     "name": "stdout",
     "output_type": "stream",
     "text": [
      "[1 2 3 4 5]\n"
     ]
    }
   ],
   "source": [
    "sanket = np.array([1,2,3,4,5])\n",
    "print(sanket)"
   ]
  },
  {
   "cell_type": "code",
   "execution_count": 4,
   "id": "6ee009e6",
   "metadata": {},
   "outputs": [
    {
     "data": {
      "text/plain": [
       "'1.25.2'"
      ]
     },
     "execution_count": 4,
     "metadata": {},
     "output_type": "execute_result"
    }
   ],
   "source": [
    "# How to know the numpy version\n",
    "np.__version__"
   ]
  },
  {
   "cell_type": "code",
   "execution_count": 6,
   "id": "dadb0d33",
   "metadata": {},
   "outputs": [
    {
     "name": "stdout",
     "output_type": "stream",
     "text": [
      "[1 2 3 4 5 6]\n"
     ]
    }
   ],
   "source": [
    "# create numpy nd array object\n",
    "# numpy is use to work with array's and the array's are object in the numpy which is called ndarray\n",
    "# when we create ndarray then we need to use numpy array function -- for creating the ndarray\n",
    "# Basic Sytax\n",
    "sanket = np.array([1,2,3,4,5,6])\n",
    "print(sanket)"
   ]
  },
  {
   "cell_type": "code",
   "execution_count": 7,
   "id": "e746b1f9",
   "metadata": {},
   "outputs": [
    {
     "data": {
      "text/plain": [
       "numpy.ndarray"
      ]
     },
     "execution_count": 7,
     "metadata": {},
     "output_type": "execute_result"
    }
   ],
   "source": [
    "type(sanket) # built in function of the python which tells the type of the object you passed to that function."
   ]
  },
  {
   "cell_type": "code",
   "execution_count": 8,
   "id": "27d49bf6",
   "metadata": {},
   "outputs": [
    {
     "name": "stdout",
     "output_type": "stream",
     "text": [
      "[1 2 3 4 5]\n"
     ]
    }
   ],
   "source": [
    "# create numpy array --you can use any list, tuple, you can also pass the object\n",
    "# whatever object you will pass in np.array function , it will automatically get converted into the array\n",
    "sanket = np.array((1,2,3,4,5))\n",
    "print(sanket)"
   ]
  },
  {
   "cell_type": "code",
   "execution_count": null,
   "id": "398481be",
   "metadata": {},
   "outputs": [],
   "source": [
    "## Dimension of Array\n",
    "# -- Dimension in array is one level of array depth.\n",
    "# -- nested arrays -- NA are arrays which have arrays as a element means arrays under arrays."
   ]
  },
  {
   "cell_type": "code",
   "execution_count": 9,
   "id": "6dd61412",
   "metadata": {},
   "outputs": [
    {
     "name": "stdout",
     "output_type": "stream",
     "text": [
      "50\n"
     ]
    }
   ],
   "source": [
    "# 0 Dimension Array -- menas no dimension -- each value in an array is an 0 dimensional\n",
    "sanket = np.array(50)\n",
    "print(sanket)"
   ]
  },
  {
   "cell_type": "code",
   "execution_count": 10,
   "id": "f101a374",
   "metadata": {},
   "outputs": [
    {
     "name": "stdout",
     "output_type": "stream",
     "text": [
      "[1 2 3 4 5]\n"
     ]
    }
   ],
   "source": [
    "#  1 Dimension Array -- an array has 0 dimesional array as it's element it is called 1D array. if an array has \n",
    "# an array it is called as nested array or the nd array.\n",
    "sanket = np.array([1,2,3,4,5])\n",
    "print(sanket)"
   ]
  },
  {
   "cell_type": "code",
   "execution_count": 11,
   "id": "6259d14f",
   "metadata": {},
   "outputs": [
    {
     "name": "stdout",
     "output_type": "stream",
     "text": [
      "[[1 2 3]\n",
      " [4 5 6]]\n"
     ]
    }
   ],
   "source": [
    "# 2 Dimension Array -- If an array has an 1 Dimensional array as an element then it is known as a 2 Dimensional Array.\n",
    "# use in matrix -- like tabular form\n",
    "sanket = np.array([[1,2,3],[4,5,6]]) # double container\n",
    "print(sanket)"
   ]
  },
  {
   "cell_type": "code",
   "execution_count": 12,
   "id": "7653b7ca",
   "metadata": {},
   "outputs": [
    {
     "name": "stdout",
     "output_type": "stream",
     "text": [
      "[[[1 2 3]\n",
      "  [4 5 6]]\n",
      "\n",
      " [[1 2 3]\n",
      "  [4 5 6]]]\n"
     ]
    }
   ],
   "source": [
    "# 3 Dimension Array -- If an array has an 2 Dimensional arrays as an element it is known as 3 Dimensional array\n",
    "sanket = np.array([[[1,2,3],[4,5,6]],[[1,2,3],[4,5,6]]])\n",
    "print(sanket)"
   ]
  },
  {
   "cell_type": "code",
   "execution_count": 13,
   "id": "988455f8",
   "metadata": {},
   "outputs": [
    {
     "name": "stdout",
     "output_type": "stream",
     "text": [
      "[[[1 2 3]\n",
      "  [4 5 6]\n",
      "  [1 2 3]\n",
      "  [4 5 6]]]\n"
     ]
    }
   ],
   "source": [
    "sanket = np.array([[[1,2,3],[4,5,6],[1,2,3],[4,5,6]]])\n",
    "print(sanket)"
   ]
  },
  {
   "cell_type": "code",
   "execution_count": 14,
   "id": "f63bd620",
   "metadata": {},
   "outputs": [
    {
     "data": {
      "text/plain": [
       "numpy.ndarray"
      ]
     },
     "execution_count": 14,
     "metadata": {},
     "output_type": "execute_result"
    }
   ],
   "source": [
    "type(sanket)"
   ]
  },
  {
   "cell_type": "code",
   "execution_count": 16,
   "id": "95c70de5",
   "metadata": {},
   "outputs": [
    {
     "data": {
      "text/plain": [
       "3"
      ]
     },
     "execution_count": 16,
     "metadata": {},
     "output_type": "execute_result"
    }
   ],
   "source": [
    "# Checking the number of dimensions -- use np.ndim function for that purpose\n",
    "np.ndim(sanket)"
   ]
  },
  {
   "cell_type": "code",
   "execution_count": 17,
   "id": "99fa0c8b",
   "metadata": {},
   "outputs": [],
   "source": [
    "no = np.array(10)\n",
    "n1 = np.array([1,2,3])\n",
    "n2 = np.array([[1,2,3],[4,5,6]])\n",
    "n3 = np.array([[[1,2,3],[4,5,6]]])"
   ]
  },
  {
   "cell_type": "code",
   "execution_count": 19,
   "id": "4db362e0",
   "metadata": {},
   "outputs": [
    {
     "data": {
      "text/plain": [
       "0"
      ]
     },
     "execution_count": 19,
     "metadata": {},
     "output_type": "execute_result"
    }
   ],
   "source": [
    "np.ndim(no)"
   ]
  },
  {
   "cell_type": "code",
   "execution_count": 20,
   "id": "e125543b",
   "metadata": {},
   "outputs": [
    {
     "data": {
      "text/plain": [
       "1"
      ]
     },
     "execution_count": 20,
     "metadata": {},
     "output_type": "execute_result"
    }
   ],
   "source": [
    "np.ndim(n1)"
   ]
  },
  {
   "cell_type": "code",
   "execution_count": 21,
   "id": "ea1d19a4",
   "metadata": {},
   "outputs": [
    {
     "data": {
      "text/plain": [
       "2"
      ]
     },
     "execution_count": 21,
     "metadata": {},
     "output_type": "execute_result"
    }
   ],
   "source": [
    "np.ndim(n2)"
   ]
  },
  {
   "cell_type": "code",
   "execution_count": 22,
   "id": "1b469a6a",
   "metadata": {},
   "outputs": [
    {
     "data": {
      "text/plain": [
       "3"
      ]
     },
     "execution_count": 22,
     "metadata": {},
     "output_type": "execute_result"
    }
   ],
   "source": [
    "np.ndim(n3)"
   ]
  },
  {
   "cell_type": "code",
   "execution_count": 23,
   "id": "e50db57d",
   "metadata": {},
   "outputs": [
    {
     "data": {
      "text/plain": [
       "0"
      ]
     },
     "execution_count": 23,
     "metadata": {},
     "output_type": "execute_result"
    }
   ],
   "source": [
    "no.ndim # You can also do by this way"
   ]
  },
  {
   "cell_type": "code",
   "execution_count": 24,
   "id": "1f75ba83",
   "metadata": {},
   "outputs": [
    {
     "data": {
      "text/plain": [
       "array([[[[[1, 2, 3, 4]]]]])"
      ]
     },
     "execution_count": 24,
     "metadata": {},
     "output_type": "execute_result"
    }
   ],
   "source": [
    "# Higher Dimensional Array's. -- an array can have any no of dimensions -- you can define the no of dimensions by using\n",
    "# ndmin arguments.\n",
    "sanket = np.array([1,2,3,4],ndmin=5) # If I want to define how many dimesions an array can Have then I can use ndmin \n",
    "# function for that purpose -- here I want to create the array with the 5 Dimension and I will clarify that it have 5 \n",
    "# Dimensions\n",
    "sanket # It create the 5D array\n",
    "# here innermost dimension ([1,2,3,4]) is the 5th one -- menas outer parts of the 5th dimension has the 4 elements"
   ]
  },
  {
   "cell_type": "code",
   "execution_count": 25,
   "id": "ec6742e1",
   "metadata": {},
   "outputs": [
    {
     "name": "stdout",
     "output_type": "stream",
     "text": [
      "1\n"
     ]
    }
   ],
   "source": [
    "# How to access the elements of the array -- use indexing \n",
    "sanket = np.array([1,2,3,4])\n",
    "# I want to print only 1 then how \n",
    "print(sanket[0])"
   ]
  },
  {
   "cell_type": "code",
   "execution_count": 26,
   "id": "a86b096c",
   "metadata": {},
   "outputs": [
    {
     "name": "stdout",
     "output_type": "stream",
     "text": [
      "3\n"
     ]
    }
   ],
   "source": [
    "# How to print 3\n",
    "print(sanket[2])"
   ]
  },
  {
   "cell_type": "code",
   "execution_count": 27,
   "id": "ac59fd6e",
   "metadata": {},
   "outputs": [
    {
     "name": "stdout",
     "output_type": "stream",
     "text": [
      "7\n"
     ]
    }
   ],
   "source": [
    "# Adding the elements of the numpy array -- add 4 and the 3\n",
    "print(sanket[2]+sanket[3])"
   ]
  },
  {
   "cell_type": "code",
   "execution_count": 28,
   "id": "9f16ff15",
   "metadata": {},
   "outputs": [
    {
     "name": "stdout",
     "output_type": "stream",
     "text": [
      "2\n"
     ]
    }
   ],
   "source": [
    "# accessing the elemetns of the 2 Dimensional array -- we will use the coomma seperated integers -- just think 2D array like\n",
    "# a table with rows and the column where dimension represent the row and the index represent the columns.\n",
    "sanket = np.array([[1,2,3,4,5],[6,7,8,9,10]])\n",
    "# How to access the 2\n",
    "print(sanket[0,1]) # row,column"
   ]
  },
  {
   "cell_type": "code",
   "execution_count": 30,
   "id": "26e6d57f",
   "metadata": {},
   "outputs": [
    {
     "name": "stdout",
     "output_type": "stream",
     "text": [
      "4\n"
     ]
    }
   ],
   "source": [
    "# 4rth element of the 1st row\n",
    "print(sanket[0,3])"
   ]
  },
  {
   "cell_type": "code",
   "execution_count": 34,
   "id": "c5c2736f",
   "metadata": {},
   "outputs": [
    {
     "name": "stdout",
     "output_type": "stream",
     "text": [
      "3\n"
     ]
    },
    {
     "data": {
      "text/plain": [
       "array([[[ 1,  2,  3],\n",
       "        [ 4,  5,  6],\n",
       "        [ 7,  8,  9],\n",
       "        [10, 11, 12]]])"
      ]
     },
     "execution_count": 34,
     "metadata": {},
     "output_type": "execute_result"
    }
   ],
   "source": [
    "# Accessing the elements of the 3 Dimensional Array\n",
    "sanket = np.array([[[1,2,3],[4,5,6],[7,8,9],[10,11,12]]])\n",
    "print(sanket.ndim)\n",
    "sanket"
   ]
  },
  {
   "cell_type": "code",
   "execution_count": 37,
   "id": "c0c05102",
   "metadata": {},
   "outputs": [
    {
     "name": "stdout",
     "output_type": "stream",
     "text": [
      "6\n"
     ]
    }
   ],
   "source": [
    "# how to access the 3rd element of the 2nd array of the 1st array -- i.e 6\n",
    "print(sanket[0,1,2]) #matrix,row,column"
   ]
  },
  {
   "cell_type": "code",
   "execution_count": 38,
   "id": "00e286a8",
   "metadata": {},
   "outputs": [
    {
     "data": {
      "text/plain": [
       "array([[ 1,  2,  3,  4,  5],\n",
       "       [ 6,  7,  8,  9, 10]])"
      ]
     },
     "execution_count": 38,
     "metadata": {},
     "output_type": "execute_result"
    }
   ],
   "source": [
    "# How to access the elements of the array via negative indexing -- use in the case of large amount of data -- accessing the \n",
    "# array from the end\n",
    "sanket = np.array([[1,2,3,4,5],[6,7,8,9,10]])\n",
    "sanket"
   ]
  },
  {
   "cell_type": "code",
   "execution_count": 39,
   "id": "af3de13e",
   "metadata": {},
   "outputs": [
    {
     "name": "stdout",
     "output_type": "stream",
     "text": [
      "10\n"
     ]
    }
   ],
   "source": [
    "# print 10\n",
    "print(sanket[-1,-1])"
   ]
  },
  {
   "cell_type": "code",
   "execution_count": 40,
   "id": "3dded137",
   "metadata": {},
   "outputs": [
    {
     "name": "stdout",
     "output_type": "stream",
     "text": [
      "8\n"
     ]
    }
   ],
   "source": [
    "# print the 8\n",
    "print(sanket[-1,-3])"
   ]
  },
  {
   "cell_type": "code",
   "execution_count": 41,
   "id": "a53f0e3a",
   "metadata": {},
   "outputs": [
    {
     "name": "stdout",
     "output_type": "stream",
     "text": [
      "[2 3 4 5]\n"
     ]
    }
   ],
   "source": [
    "# How to slice the array -- like we do in the python [start:stop:step] # by default values of the start is 0, stop is end of\n",
    "# value and the step is 1.\n",
    "sanket = np.array([1,2,3,4,5,6,7])\n",
    "print(sanket[1:5])"
   ]
  },
  {
   "cell_type": "code",
   "execution_count": 42,
   "id": "c0acacfb",
   "metadata": {},
   "outputs": [
    {
     "name": "stdout",
     "output_type": "stream",
     "text": [
      "[5 6 7]\n"
     ]
    }
   ],
   "source": [
    "# slicing from 4 to the end\n",
    "print(sanket[4:])"
   ]
  },
  {
   "cell_type": "code",
   "execution_count": 43,
   "id": "77f5d292",
   "metadata": {},
   "outputs": [
    {
     "name": "stdout",
     "output_type": "stream",
     "text": [
      "[1 2 3 4]\n"
     ]
    }
   ],
   "source": [
    "# slice the elements from 1st to the 4\n",
    "print(sanket[0:4])"
   ]
  },
  {
   "cell_type": "code",
   "execution_count": 44,
   "id": "70330765",
   "metadata": {},
   "outputs": [
    {
     "name": "stdout",
     "output_type": "stream",
     "text": [
      "[5 6]\n"
     ]
    }
   ],
   "source": [
    "# Negataive slicing\n",
    "# slice from end 3\n",
    "print(sanket[-3:-1])"
   ]
  },
  {
   "cell_type": "code",
   "execution_count": 45,
   "id": "cdfbc8a6",
   "metadata": {},
   "outputs": [
    {
     "name": "stdout",
     "output_type": "stream",
     "text": [
      "[1 3 5 7]\n"
     ]
    }
   ],
   "source": [
    "# return every second element from the array\n",
    "print(sanket[::2])"
   ]
  },
  {
   "cell_type": "code",
   "execution_count": 46,
   "id": "7656359b",
   "metadata": {},
   "outputs": [
    {
     "name": "stdout",
     "output_type": "stream",
     "text": [
      "[7 8 9]\n"
     ]
    }
   ],
   "source": [
    "# Slicing the 2D Array\n",
    "sanket = np.array([[1,2,3,4,5],[6,7,8,9,10]])\n",
    "# slice from 1 to 4\n",
    "print(sanket[1,1:4])"
   ]
  },
  {
   "cell_type": "code",
   "execution_count": 47,
   "id": "9d24c5c3",
   "metadata": {},
   "outputs": [
    {
     "name": "stdout",
     "output_type": "stream",
     "text": [
      "[3 8]\n"
     ]
    }
   ],
   "source": [
    "# How to access from the both elements -- how to access 3,8 at the same time\n",
    "print(sanket[0:2,2]) # I have use rows slicing here"
   ]
  },
  {
   "cell_type": "code",
   "execution_count": 49,
   "id": "f30df5f0",
   "metadata": {},
   "outputs": [
    {
     "name": "stdout",
     "output_type": "stream",
     "text": [
      "[[2 3 4]\n",
      " [7 8 9]]\n"
     ]
    }
   ],
   "source": [
    "# from both rows we will slice 1 to 4 index\n",
    "print(sanket[0:2,1:4])"
   ]
  },
  {
   "cell_type": "markdown",
   "id": "d26b2116",
   "metadata": {},
   "source": [
    "# Data Types in Python Numpy"
   ]
  },
  {
   "cell_type": "code",
   "execution_count": null,
   "id": "320927e5",
   "metadata": {},
   "outputs": [],
   "source": [
    "# Numpy has some extra data types and we actually refer this datatypes to one character\n",
    "# like i for integer, b for boolean, f for float, c for complex etc.\n",
    "# the numpy array object has the property which is called dtype and that returns the datatype of an array"
   ]
  },
  {
   "cell_type": "code",
   "execution_count": 52,
   "id": "a06b678c",
   "metadata": {},
   "outputs": [
    {
     "name": "stdout",
     "output_type": "stream",
     "text": [
      "int32\n"
     ]
    }
   ],
   "source": [
    "sanket = np.array([1,2,3,4,5])\n",
    "print(sanket.dtype) # ineteger datatype of 32 bit of data"
   ]
  },
  {
   "cell_type": "code",
   "execution_count": 53,
   "id": "1cef5880",
   "metadata": {},
   "outputs": [
    {
     "name": "stdout",
     "output_type": "stream",
     "text": [
      "<U6\n"
     ]
    }
   ],
   "source": [
    "sanket = np.array(['apple','banana','cherry'])\n",
    "print(sanket.dtype) # it will give data type U6"
   ]
  },
  {
   "cell_type": "code",
   "execution_count": 55,
   "id": "55c7ab57",
   "metadata": {},
   "outputs": [
    {
     "name": "stdout",
     "output_type": "stream",
     "text": [
      "[b'1' b'2' b'3' b'4']\n",
      "|S1\n"
     ]
    }
   ],
   "source": [
    "# If you want to create an array with the defined data type in the numpy then you can create so. use dtype to pass datatype\n",
    "sanket = np.array([1,2,3,4],dtype='S') # here S indicate the string so S is use to define datatype \n",
    "print(sanket)\n",
    "print(sanket.dtype)"
   ]
  },
  {
   "cell_type": "code",
   "execution_count": 57,
   "id": "f835ed1d",
   "metadata": {},
   "outputs": [
    {
     "name": "stdout",
     "output_type": "stream",
     "text": [
      "[1 2 3 4]\n",
      "int32\n"
     ]
    }
   ],
   "source": [
    "# You can also  speciify the bytes also -- create an array with a dtype int with 4 bytes\n",
    "sanket = np.array([1,2,3,4],dtype='i4')\n",
    "print(sanket)\n",
    "print(sanket.dtype)"
   ]
  },
  {
   "cell_type": "code",
   "execution_count": 58,
   "id": "dc9f3f5a",
   "metadata": {},
   "outputs": [
    {
     "ename": "ValueError",
     "evalue": "invalid literal for int() with base 10: 'a'",
     "output_type": "error",
     "traceback": [
      "\u001b[1;31m---------------------------------------------------------------------------\u001b[0m",
      "\u001b[1;31mValueError\u001b[0m                                Traceback (most recent call last)",
      "\u001b[1;32m~\\AppData\\Local\\Temp\\ipykernel_20132\\962270507.py\u001b[0m in \u001b[0;36m<module>\u001b[1;34m\u001b[0m\n\u001b[0;32m      1\u001b[0m \u001b[1;31m# value error ooccured when an type of argument pass to a function is an incorrect.\u001b[0m\u001b[1;33m\u001b[0m\u001b[1;33m\u001b[0m\u001b[0m\n\u001b[1;32m----> 2\u001b[1;33m \u001b[0msanket\u001b[0m \u001b[1;33m=\u001b[0m \u001b[0mnp\u001b[0m\u001b[1;33m.\u001b[0m\u001b[0marray\u001b[0m\u001b[1;33m(\u001b[0m\u001b[1;33m[\u001b[0m\u001b[1;34m'a'\u001b[0m\u001b[1;33m,\u001b[0m\u001b[1;34m'2'\u001b[0m\u001b[1;33m,\u001b[0m\u001b[1;34m'3'\u001b[0m\u001b[1;33m]\u001b[0m\u001b[1;33m,\u001b[0m\u001b[0mdtype\u001b[0m\u001b[1;33m=\u001b[0m\u001b[1;34m'i'\u001b[0m\u001b[1;33m)\u001b[0m\u001b[1;33m\u001b[0m\u001b[1;33m\u001b[0m\u001b[0m\n\u001b[0m\u001b[0;32m      3\u001b[0m \u001b[0mprint\u001b[0m\u001b[1;33m(\u001b[0m\u001b[0msanket\u001b[0m\u001b[1;33m)\u001b[0m\u001b[1;33m\u001b[0m\u001b[1;33m\u001b[0m\u001b[0m\n",
      "\u001b[1;31mValueError\u001b[0m: invalid literal for int() with base 10: 'a'"
     ]
    }
   ],
   "source": [
    "# value error ooccured when an type of argument pass to a function is an incorrect.\n",
    "sanket = np.array(['a','2','3'],dtype='i') # Here a cannot be converted into the numerical type\n",
    "print(sanket)"
   ]
  },
  {
   "cell_type": "code",
   "execution_count": 60,
   "id": "4e57a84d",
   "metadata": {},
   "outputs": [
    {
     "name": "stdout",
     "output_type": "stream",
     "text": [
      "[1 2 3]\n",
      "float64\n",
      "int32\n"
     ]
    }
   ],
   "source": [
    "# converting datatype on an existing arrays - astype()\n",
    "# we will change the datatype from the float to integer by using 'i'\n",
    "sanket = np.array([1.1,2.1,3.1])\n",
    "sanketcopy = sanket.astype('i')\n",
    "print(sanketcopy)\n",
    "print(sanket.dtype)\n",
    "print(sanketcopy.dtype) # we change the dtype by creating the copy"
   ]
  },
  {
   "cell_type": "code",
   "execution_count": 61,
   "id": "c3bdd369",
   "metadata": {},
   "outputs": [
    {
     "name": "stdout",
     "output_type": "stream",
     "text": [
      "[ True False  True]\n",
      "bool\n"
     ]
    }
   ],
   "source": [
    "# Change datatype from integer to the boolean\n",
    "sanket = np.array([1,0,3])\n",
    "sanket1 = sanket.astype(bool)\n",
    "print(sanket1)\n",
    "print(sanket1.dtype)"
   ]
  },
  {
   "cell_type": "code",
   "execution_count": null,
   "id": "19c482d0",
   "metadata": {},
   "outputs": [],
   "source": [
    "# List of all datatypes in the numpy\n",
    "# i -- integer\n",
    "# b -- boolean\n",
    "# u -- unsigned integer\n",
    "# f -- for float\n",
    "# c -- complex float\n",
    "# m -- timedelta\n",
    "# M -- datatime\n",
    "# O -- object\n",
    "# S -- string\n",
    "# U -- Unicode string"
   ]
  },
  {
   "cell_type": "code",
   "execution_count": null,
   "id": "27e5abc9",
   "metadata": {},
   "outputs": [],
   "source": [
    "## Difference between the copy & the view of array command\n",
    "# -- the copy is the new array while a view is just the view of the original array.\n",
    "# -- any changes made in the copy array will not affect the original array and vice versa.\n",
    "# -- view does not own any data and any changes made to the view will affect the original data."
   ]
  },
  {
   "cell_type": "code",
   "execution_count": 1,
   "id": "a8dc88a3",
   "metadata": {},
   "outputs": [
    {
     "name": "stdout",
     "output_type": "stream",
     "text": [
      "[42  2  3  4  5]\n",
      "[1 2 3 4 5]\n"
     ]
    }
   ],
   "source": [
    "# Example of copy -- changes in the copy will not affect the original array\n",
    "import numpy as np\n",
    "sanket = np.array([1,2,3,4,5])\n",
    "x = sanket.copy()\n",
    "sanket[0] = 42\n",
    "print(sanket)\n",
    "print(x)"
   ]
  },
  {
   "cell_type": "code",
   "execution_count": 2,
   "id": "b3425d7e",
   "metadata": {},
   "outputs": [
    {
     "name": "stdout",
     "output_type": "stream",
     "text": [
      "[42  2  3  4  5]\n",
      "[42  2  3  4  5]\n"
     ]
    }
   ],
   "source": [
    "# Example of view -- change in the view will affect the original array\n",
    "sanket = np.array([1,2,3,4,5])\n",
    "x = sanket.view()\n",
    "sanket[0] = 42\n",
    "print(sanket)\n",
    "print(x)"
   ]
  },
  {
   "cell_type": "code",
   "execution_count": 3,
   "id": "2970fd8a",
   "metadata": {},
   "outputs": [
    {
     "name": "stdout",
     "output_type": "stream",
     "text": [
      "None\n",
      "[1 2 3 4 5]\n"
     ]
    }
   ],
   "source": [
    "# Check if arrays owns its data\n",
    "# copies own data while view does not own data -- how to check it\n",
    "# every numpy array has a attribute base it return none if the array dies not own the data\n",
    "# print the value of the base attribute to check if an array own it's data or not\n",
    "sanket = np.array([1,2,3,4,5])\n",
    "x = sanket.copy()\n",
    "y = sanket.view()\n",
    "\n",
    "print(x.base) # none -- means copy does not return anything -- it is just copy it does not own the data.\n",
    "print(y.base) # view returns the array means it is affected by the original array.\n"
   ]
  },
  {
   "cell_type": "code",
   "execution_count": 6,
   "id": "4102645e",
   "metadata": {},
   "outputs": [
    {
     "name": "stdout",
     "output_type": "stream",
     "text": [
      "(2, 4)\n"
     ]
    }
   ],
   "source": [
    "# How to judge the shape of the numpy array's.\n",
    "# the shape of the array is the number of element in each dimension -- how we can get the shape of the numpy array -- numpy \n",
    "# has an shape attribute that return tuple with each index having the number of corresponding elements.\n",
    "# How to print the shape of the 2D array\n",
    "sanket = np.array([[1,2,3,4],[5,6,7,8]])\n",
    "# I want to know its shape \n",
    "print(sanket.shape)\n",
    "# it has given result as 2,4 here 2,4 means the array has 2 dimensions and the first dimension has two elements and the \n",
    "# second dimension has the 4 elements.\n",
    "# 1st dimension -- [1,2,3,4]\n",
    "# 2nd dimension -- [5,6,7,8]"
   ]
  },
  {
   "cell_type": "code",
   "execution_count": 8,
   "id": "bb94565e",
   "metadata": {},
   "outputs": [
    {
     "name": "stdout",
     "output_type": "stream",
     "text": [
      "[[[[[1 2 3 4 5]]]]]\n",
      "(1, 1, 1, 1, 5)\n"
     ]
    }
   ],
   "source": [
    "sanket = np.array([1,2,3,4,5],ndmin=5)\n",
    "print(sanket)\n",
    "print(sanket.shape)"
   ]
  },
  {
   "cell_type": "code",
   "execution_count": 9,
   "id": "17dbe267",
   "metadata": {},
   "outputs": [
    {
     "name": "stdout",
     "output_type": "stream",
     "text": [
      "[[ 1  2  3]\n",
      " [ 4  5  6]\n",
      " [ 7  8  9]\n",
      " [10 11 12]]\n"
     ]
    }
   ],
   "source": [
    "# How to reshape an array -- reshaping means changing the shape of the array -- shape of array means the number of elements\n",
    "# in each dimension -- by reshaping we can add or remove dimension or we can change the number elements in the each dimensn\n",
    "# Suppose I want to reshape from 1D to the 2D\n",
    "sanket = np.array([1,2,3,4,5,6,7,8,9,10,11,12])\n",
    "# above is the one-D and I want to change it to the 2D. --  I have given 12 values I want to change it to 2D -- but how\n",
    "# I will change the outermost diimension so that it will have 4 arrays with 3 elemetns each\n",
    "sanketnew = sanket.reshape(4,3) # means the 4 rows with the 3 columns.\n",
    "print(sanketnew)"
   ]
  },
  {
   "cell_type": "code",
   "execution_count": 12,
   "id": "f3c24a29",
   "metadata": {},
   "outputs": [
    {
     "name": "stdout",
     "output_type": "stream",
     "text": [
      "[[[ 1  2]\n",
      "  [ 3  4]\n",
      "  [ 5  6]]\n",
      "\n",
      " [[ 7  8]\n",
      "  [ 9 10]\n",
      "  [11 12]]]\n"
     ]
    }
   ],
   "source": [
    "# Now convert it into the 3D \n",
    "sanket = np.array([1,2,3,4,5,6,7,8,9,10,11,12])\n",
    "sanketnew = sanket.reshape(2,3,2) \n",
    "print(sanketnew)"
   ]
  },
  {
   "cell_type": "code",
   "execution_count": null,
   "id": "693dd776",
   "metadata": {},
   "outputs": [],
   "source": [
    "# can we reshape into any shape -- as long as the elements required for reshaping are equal in both shapes -- if u hv total\n",
    "# 10 elements and you want to reshape it into 50 then how it is possible -- it is not possible -- you can divide it into\n",
    "# 2,2 or 12 but you can't divide into 15 or twelve bcz the number of elements is not sufficient. -- like we can rshape 8 ele\n",
    "# into 1D array like means 4 elements in two rows but we cannot reshape into three element bcz 8/3 not possible. "
   ]
  },
  {
   "cell_type": "code",
   "execution_count": 13,
   "id": "aaf42c9b",
   "metadata": {},
   "outputs": [
    {
     "ename": "ValueError",
     "evalue": "cannot reshape array of size 8 into shape (3,3)",
     "output_type": "error",
     "traceback": [
      "\u001b[1;31m---------------------------------------------------------------------------\u001b[0m",
      "\u001b[1;31mValueError\u001b[0m                                Traceback (most recent call last)",
      "\u001b[1;32m~\\AppData\\Local\\Temp\\ipykernel_32800\\3746055189.py\u001b[0m in \u001b[0;36m<module>\u001b[1;34m\u001b[0m\n\u001b[0;32m      2\u001b[0m \u001b[0msanket\u001b[0m \u001b[1;33m=\u001b[0m \u001b[0mnp\u001b[0m\u001b[1;33m.\u001b[0m\u001b[0marray\u001b[0m\u001b[1;33m(\u001b[0m\u001b[1;33m[\u001b[0m\u001b[1;36m1\u001b[0m\u001b[1;33m,\u001b[0m\u001b[1;36m2\u001b[0m\u001b[1;33m,\u001b[0m\u001b[1;36m3\u001b[0m\u001b[1;33m,\u001b[0m\u001b[1;36m4\u001b[0m\u001b[1;33m,\u001b[0m\u001b[1;36m5\u001b[0m\u001b[1;33m,\u001b[0m\u001b[1;36m6\u001b[0m\u001b[1;33m,\u001b[0m\u001b[1;36m7\u001b[0m\u001b[1;33m,\u001b[0m\u001b[1;36m8\u001b[0m\u001b[1;33m]\u001b[0m\u001b[1;33m)\u001b[0m\u001b[1;33m\u001b[0m\u001b[1;33m\u001b[0m\u001b[0m\n\u001b[0;32m      3\u001b[0m \u001b[1;31m# I want to convert it into 3,3 3 arrays with 3 elements each\u001b[0m\u001b[1;33m\u001b[0m\u001b[1;33m\u001b[0m\u001b[0m\n\u001b[1;32m----> 4\u001b[1;33m \u001b[0msanketnew\u001b[0m \u001b[1;33m=\u001b[0m \u001b[0msanket\u001b[0m\u001b[1;33m.\u001b[0m\u001b[0mreshape\u001b[0m\u001b[1;33m(\u001b[0m\u001b[1;36m3\u001b[0m\u001b[1;33m,\u001b[0m\u001b[1;36m3\u001b[0m\u001b[1;33m)\u001b[0m\u001b[1;33m\u001b[0m\u001b[1;33m\u001b[0m\u001b[0m\n\u001b[0m\u001b[0;32m      5\u001b[0m \u001b[0mprint\u001b[0m\u001b[1;33m(\u001b[0m\u001b[0msanketnew\u001b[0m\u001b[1;33m)\u001b[0m\u001b[1;33m\u001b[0m\u001b[1;33m\u001b[0m\u001b[0m\n",
      "\u001b[1;31mValueError\u001b[0m: cannot reshape array of size 8 into shape (3,3)"
     ]
    }
   ],
   "source": [
    "# Convert 1D array with 8 elements to 2D array with 3 elements in each dimension\n",
    "sanket = np.array([1,2,3,4,5,6,7,8])\n",
    "# I want to convert it into 3,3 3 arrays with 3 elements each\n",
    "sanketnew = sanket.reshape(3,3) # it will show the error\n",
    "print(sanketnew)"
   ]
  },
  {
   "cell_type": "code",
   "execution_count": 15,
   "id": "6c7e7517",
   "metadata": {},
   "outputs": [
    {
     "name": "stdout",
     "output_type": "stream",
     "text": [
      "[[[1 2]\n",
      "  [3 4]]\n",
      "\n",
      " [[5 6]\n",
      "  [7 8]]]\n"
     ]
    }
   ],
   "source": [
    "# if  i want to convert this 8 elements into the 3D then I can do so \n",
    "# converting 2D array of 8 elements into 3D -- by 2,2\n",
    "sanket = np.array([1,2,3,4,5,6,7,8])\n",
    "sanketnew = sanket.reshape(2,2,-1) # -1 for the unknown dimension\n",
    "print(sanketnew)"
   ]
  },
  {
   "cell_type": "code",
   "execution_count": 16,
   "id": "abbafb8a",
   "metadata": {},
   "outputs": [
    {
     "name": "stdout",
     "output_type": "stream",
     "text": [
      "[1 2 3 4 5 6]\n"
     ]
    }
   ],
   "source": [
    "# Flattening array -- means converting the multidimensional array into 1D array.\n",
    "# eg.\n",
    "sanket = np.array([[1,2,3],[4,5,6]])\n",
    "sanketnew = sanket.reshape(-1)\n",
    "print(sanketnew)"
   ]
  },
  {
   "cell_type": "code",
   "execution_count": 18,
   "id": "781bfa8d",
   "metadata": {},
   "outputs": [
    {
     "name": "stdout",
     "output_type": "stream",
     "text": [
      "1\n",
      "2\n",
      "3\n"
     ]
    }
   ],
   "source": [
    "# Numpy array iterating \n",
    "# Iterating over 1D array.\n",
    "sanket = np.array([1,2,3])\n",
    "for x in sanket:\n",
    "    print(x)"
   ]
  },
  {
   "cell_type": "code",
   "execution_count": 19,
   "id": "07bd57b7",
   "metadata": {},
   "outputs": [
    {
     "name": "stdout",
     "output_type": "stream",
     "text": [
      "[1 2 3]\n",
      "[4 5 6]\n"
     ]
    }
   ],
   "source": [
    "# Iterating over 2D array\n",
    "sanket = np.array([[1,2,3],[4,5,6]])\n",
    "for x in sanket:\n",
    "    print(x)"
   ]
  },
  {
   "cell_type": "code",
   "execution_count": 21,
   "id": "8dd60e09",
   "metadata": {},
   "outputs": [
    {
     "name": "stdout",
     "output_type": "stream",
     "text": [
      "1 2 3 4 5 6 "
     ]
    }
   ],
   "source": [
    "# Iterating on each scaler element of the 2D array\n",
    "sanket = np.array([[1,2,3],[4,5,6]])\n",
    "for x in sanket:\n",
    "    for y in x:\n",
    "        print(y,end=\" \")"
   ]
  },
  {
   "cell_type": "code",
   "execution_count": 22,
   "id": "9731fbc0",
   "metadata": {},
   "outputs": [
    {
     "name": "stdout",
     "output_type": "stream",
     "text": [
      "[[ 1  2  3]\n",
      " [ 4  5  6]\n",
      " [ 7  8  9]\n",
      " [10 11 12]]\n"
     ]
    }
   ],
   "source": [
    "# How to iterate over 3D array\n",
    "sanket = np.array([[[1,2,3],[4,5,6],[7,8,9],[10,11,12]]])\n",
    "for x in sanket:\n",
    "    print(x)"
   ]
  },
  {
   "cell_type": "code",
   "execution_count": 26,
   "id": "9c785c35",
   "metadata": {},
   "outputs": [
    {
     "name": "stdout",
     "output_type": "stream",
     "text": [
      "1 2 3 4 5 6 7 8 9 10 11 12 "
     ]
    }
   ],
   "source": [
    "# Iterate over 3D array\n",
    "sanket = np.array([[[1,2,3],[4,5,6],[7,8,9],[10,11,12]]])\n",
    "for x in sanket:\n",
    "    for y in x:\n",
    "        for i in y:\n",
    "            print(i,end=\" \")"
   ]
  },
  {
   "cell_type": "code",
   "execution_count": 28,
   "id": "ca18598f",
   "metadata": {},
   "outputs": [
    {
     "name": "stdout",
     "output_type": "stream",
     "text": [
      "1 2 3 4 5 6 7 8 "
     ]
    }
   ],
   "source": [
    "# Iterate over array using nditer() -- helping function use for from basic to advance iteration\n",
    "# Iterate over 3D array by using the nditer\n",
    "sanket = np.array([[[1,2],[3,4],[5,6],[7,8]]])\n",
    "for x in np.nditer(sanket):\n",
    "    print(x,end=\" \")"
   ]
  },
  {
   "cell_type": "code",
   "execution_count": null,
   "id": "e71bd853",
   "metadata": {},
   "outputs": [],
   "source": [
    "# Joining the numpy array's -- means putting the content of two or more array's in the single array's.\n",
    "# In SQL we join tables by the key while in the numpy we jion the array by using the axis. -- both are same.\n",
    "# we use concat function for that purpose -- along with the axis -- by default axis is the 0.\n",
    "# Join the two array's."
   ]
  },
  {
   "cell_type": "code",
   "execution_count": 30,
   "id": "a632ff21",
   "metadata": {},
   "outputs": [
    {
     "name": "stdout",
     "output_type": "stream",
     "text": [
      "[1 2 3 4 5 6]\n"
     ]
    }
   ],
   "source": [
    "sanket1 = np.array([1,2,3])\n",
    "sanket2 = np.array([4,5,6])\n",
    "sanket3 = np.concatenate((sanket1,sanket2)) # Pass the arguments \n",
    "print(sanket3)"
   ]
  },
  {
   "cell_type": "code",
   "execution_count": 35,
   "id": "e08e5a28",
   "metadata": {},
   "outputs": [
    {
     "name": "stdout",
     "output_type": "stream",
     "text": [
      "[[1 2 5 6]\n",
      " [3 4 7 8]]\n"
     ]
    }
   ],
   "source": [
    "# Concatnating / joining 2 2D arrays along with rows (axis=1)\n",
    "sanket1 = np.array([[1,2],[3,4]])\n",
    "sanket2 = np.array([[5,6],[7,8]])\n",
    "sanket3 = np.concatenate((sanket1,sanket2),axis=1)\n",
    "print(sanket3)"
   ]
  },
  {
   "cell_type": "code",
   "execution_count": 36,
   "id": "e19df687",
   "metadata": {},
   "outputs": [
    {
     "name": "stdout",
     "output_type": "stream",
     "text": [
      "[[1 2]\n",
      " [3 4]\n",
      " [5 6]\n",
      " [7 8]]\n"
     ]
    }
   ],
   "source": [
    "sanket1 = np.array([[1,2],[3,4]])\n",
    "sanket2 = np.array([[5,6],[7,8]])\n",
    "sanket3 = np.concatenate((sanket1,sanket2),axis=0)\n",
    "print(sanket3)"
   ]
  },
  {
   "cell_type": "code",
   "execution_count": 38,
   "id": "121d1eaf",
   "metadata": {},
   "outputs": [
    {
     "name": "stdout",
     "output_type": "stream",
     "text": [
      "[[1 4]\n",
      " [2 5]\n",
      " [3 6]]\n"
     ]
    }
   ],
   "source": [
    "# Joining the arrays using the stack function -- stack function is same as concatenate function the pnly difference is that \n",
    "# stacking is done along the new axis. \n",
    "sanket1 = np.array([1,2,3])\n",
    "sanket2 = np.array([4,5,6])\n",
    "sanket3 = np.stack((sanket1,sanket2),axis=1)\n",
    "print(sanket3)"
   ]
  },
  {
   "cell_type": "code",
   "execution_count": 41,
   "id": "8edf204f",
   "metadata": {},
   "outputs": [
    {
     "name": "stdout",
     "output_type": "stream",
     "text": [
      "[1 2 3 4 5 6]\n",
      "[[1 2 3]\n",
      " [4 5 6]]\n",
      "[[[1 4]\n",
      "  [2 5]\n",
      "  [3 6]]]\n"
     ]
    }
   ],
   "source": [
    "# Different type of stack -- there are two types of stack -- stack along row's and the stack along column's.\n",
    "sanket1 = np.array([1,2,3])\n",
    "sanket2 = np.array([4,5,6])\n",
    "sanket3 = np.hstack((sanket1,sanket2)) # hstack for stacking via row.\n",
    "sanket4 = np.vstack((sanket1,sanket2)) # vstack for stacking along the column's.\n",
    "sanket5 = np.dstack((sanket1,sanket2)) # dstack for stacking along the height.\n",
    "print(sanket3)\n",
    "print(sanket4)\n",
    "print(sanket5)\n",
    "# stack gives more functionality rather than join so use stack."
   ]
  },
  {
   "cell_type": "code",
   "execution_count": null,
   "id": "0bfe75e5",
   "metadata": {},
   "outputs": [],
   "source": [
    "# Numpy splitting the array -- How to splitting -- splitting is the reverse operation of the joining -- splitting breaks \n",
    "# the one array into multiple array.\n",
    "# we will array_split() function"
   ]
  },
  {
   "cell_type": "code",
   "execution_count": 42,
   "id": "da4445aa",
   "metadata": {},
   "outputs": [
    {
     "name": "stdout",
     "output_type": "stream",
     "text": [
      "[array([1, 2]), array([3, 4]), array([5, 6])]\n"
     ]
    }
   ],
   "source": [
    "sanket = np.array([1,2,3,4,5,6])\n",
    "sanketnew = np.array_split(sanket,3)\n",
    "print(sanketnew) # all are the 1D array's."
   ]
  },
  {
   "cell_type": "code",
   "execution_count": 43,
   "id": "2042e129",
   "metadata": {},
   "outputs": [
    {
     "name": "stdout",
     "output_type": "stream",
     "text": [
      "[array([1, 2]), array([3, 4]), array([5]), array([6])]\n"
     ]
    }
   ],
   "source": [
    "# above there are 6 elements so divided into 3 parts containing 2 value each -- if an array has odd numbers then it will be\n",
    "# adjusted by the last element. \n",
    "# what if the elements are less \n",
    "sanket = np.array([1,2,3,4,5,6])\n",
    "sanketnew = np.array_split(sanket,4)\n",
    "print(sanketnew)"
   ]
  },
  {
   "cell_type": "code",
   "execution_count": 44,
   "id": "fd652fbe",
   "metadata": {},
   "outputs": [
    {
     "name": "stdout",
     "output_type": "stream",
     "text": [
      "[array([1, 2]), array([3, 4]), array([5, 6])]\n",
      "[1 2]\n"
     ]
    }
   ],
   "source": [
    "# Dont use split() function always use the array_split() function as split method does not adjust if vslues are less then \n",
    "# use the array_split function.\n",
    "sanket = np.array([1,2,3,4,5,6])\n",
    "sanketnew = np.array_split(sanket,3)\n",
    "print(sanketnew)\n",
    "# Now I want to access the only first array\n",
    "print(sanketnew[0])"
   ]
  },
  {
   "cell_type": "code",
   "execution_count": 45,
   "id": "203d1b18",
   "metadata": {},
   "outputs": [
    {
     "name": "stdout",
     "output_type": "stream",
     "text": [
      "[array([[1, 2],\n",
      "       [3, 4]]), array([[5, 6],\n",
      "       [7, 8]]), array([[ 9, 10],\n",
      "       [11, 12]])]\n"
     ]
    }
   ],
   "source": [
    "# Till now we have seen how to see the 1D array now we will see how to split the 2D array.\n",
    "# Splitting 2D array\n",
    "sanket = np.array([[1,2],[3,4],[5,6],[7,8],[9,10],[11,12]])\n",
    "sanketnew = np.array_split(sanket,3)\n",
    "print(sanketnew) # here array was divided into the three parts"
   ]
  },
  {
   "cell_type": "code",
   "execution_count": 46,
   "id": "5f3b7646",
   "metadata": {},
   "outputs": [
    {
     "name": "stdout",
     "output_type": "stream",
     "text": [
      "[array([[1, 2],\n",
      "       [3, 4]]), array([[5, 6],\n",
      "       [7, 8]]), array([[ 9, 10]]), array([[11, 12]])]\n"
     ]
    }
   ],
   "source": [
    "sanket = np.array([[1,2],[3,4],[5,6],[7,8],[9,10],[11,12]])\n",
    "sanketnew = np.array_split(sanket,4)\n",
    "print(sanketnew)\n",
    "# array([[1, 2],[3, 4]]), \n",
    "# array([[5, 6],[7, 8]]), \n",
    "# array([[ 9, 10]]), \n",
    "# array([[11, 12]])"
   ]
  },
  {
   "cell_type": "code",
   "execution_count": 47,
   "id": "57c3718f",
   "metadata": {},
   "outputs": [
    {
     "name": "stdout",
     "output_type": "stream",
     "text": [
      "[array([[ 1],\n",
      "       [ 4],\n",
      "       [ 7],\n",
      "       [10],\n",
      "       [13],\n",
      "       [16]]), array([[ 2],\n",
      "       [ 5],\n",
      "       [ 8],\n",
      "       [11],\n",
      "       [14],\n",
      "       [17]]), array([[ 3],\n",
      "       [ 6],\n",
      "       [ 9],\n",
      "       [12],\n",
      "       [15],\n",
      "       [18]])]\n"
     ]
    }
   ],
   "source": [
    "# Split the 2D array into three 2D but as per rows\n",
    "sanket = np.array([[1,2,3],[4,5,6],[7,8,9],[10,11,12],[13,14,15],[16,17,18]])\n",
    "sanketnew = np.array_split(sanket,3,axis=1)\n",
    "print(sanketnew)"
   ]
  },
  {
   "cell_type": "code",
   "execution_count": 50,
   "id": "b5a5d87c",
   "metadata": {},
   "outputs": [
    {
     "name": "stdout",
     "output_type": "stream",
     "text": [
      "[array([[ 1],\n",
      "       [ 4],\n",
      "       [ 7],\n",
      "       [10],\n",
      "       [13],\n",
      "       [16]]), array([[ 2],\n",
      "       [ 5],\n",
      "       [ 8],\n",
      "       [11],\n",
      "       [14],\n",
      "       [17]]), array([[ 3],\n",
      "       [ 6],\n",
      "       [ 9],\n",
      "       [12],\n",
      "       [15],\n",
      "       [18]])]\n"
     ]
    }
   ],
   "source": [
    "# using the hsplit method to split the 2D array into the three 2D array along with the row's.\n",
    "sanket = np.array([[1,2,3],[4,5,6],[7,8,9],[10,11,12],[13,14,15],[16,17,18]])\n",
    "sanketnew = np.hsplit(sanket,3)\n",
    "print(sanketnew)\n",
    "# hsplit doing the same as the array_split method -- but always use the array_split."
   ]
  },
  {
   "cell_type": "code",
   "execution_count": 51,
   "id": "22937ad5",
   "metadata": {},
   "outputs": [
    {
     "name": "stdout",
     "output_type": "stream",
     "text": [
      "(array([3], dtype=int64),)\n"
     ]
    }
   ],
   "source": [
    "# Searching Array\n",
    "# You can search an array for a certian value and you can return indexes that get the match -- for searching the array we\n",
    "# use where() method.\n",
    "sanket = np.array([1,2,3,4,5])\n",
    "x = np.where(sanket == 4)\n",
    "print(x)"
   ]
  },
  {
   "cell_type": "code",
   "execution_count": 3,
   "id": "6a88f19d",
   "metadata": {},
   "outputs": [
    {
     "name": "stdout",
     "output_type": "stream",
     "text": [
      "(array([1, 3, 6], dtype=int64),)\n"
     ]
    }
   ],
   "source": [
    "# we will find the index where values are even\n",
    "import numpy as np\n",
    "sanket = np.array([1,2,3,4,5,7,8])\n",
    "x = np.where(sanket%2 == 0)\n",
    "print(x)"
   ]
  },
  {
   "cell_type": "code",
   "execution_count": 2,
   "id": "5f891b1f",
   "metadata": {},
   "outputs": [
    {
     "name": "stdout",
     "output_type": "stream",
     "text": [
      "(array([0, 2, 4, 5], dtype=int64),)\n"
     ]
    }
   ],
   "source": [
    "# find the index where values are the odd\n",
    "import numpy as np\n",
    "sanket = np.array([1,2,3,4,5,7,8])\n",
    "x = np.where(sanket%2 != 0)\n",
    "print(x)"
   ]
  },
  {
   "cell_type": "code",
   "execution_count": null,
   "id": "a843af3e",
   "metadata": {},
   "outputs": [],
   "source": [
    "# searchsorted() method  -- it start the search from the left to right -- where we can insert \n",
    "# specified value in the array\n",
    "sanket = np.array([6,7,8,9])\n",
    "x = np.searchsorted(sanket,7)  # Finding the index number of the specified value in the array\n",
    "print(x)"
   ]
  },
  {
   "cell_type": "code",
   "execution_count": 5,
   "id": "022d587c",
   "metadata": {},
   "outputs": [
    {
     "name": "stdout",
     "output_type": "stream",
     "text": [
      "2\n"
     ]
    }
   ],
   "source": [
    "# How to start searching from the right to left\n",
    "sanket = np.array([6,7,8,9])\n",
    "x = np.searchsorted(sanket,7,side='right') # so from right 7 is on the 2 index number\n",
    "print(x)"
   ]
  },
  {
   "cell_type": "code",
   "execution_count": 6,
   "id": "578ec1b6",
   "metadata": {},
   "outputs": [
    {
     "name": "stdout",
     "output_type": "stream",
     "text": [
      "[1 2 3]\n"
     ]
    }
   ],
   "source": [
    "# Seaching the multiple values \n",
    "sanket = np.array([1,3,5,7])\n",
    "x = np.searchsorted(sanket,[2,4,6]) #from where to search, what to search\n",
    "print(x)"
   ]
  },
  {
   "cell_type": "code",
   "execution_count": 7,
   "id": "0c1e6b7a",
   "metadata": {},
   "outputs": [
    {
     "name": "stdout",
     "output_type": "stream",
     "text": [
      "[0 1 2 3]\n"
     ]
    }
   ],
   "source": [
    "# How to sort array in the numpy -- use sort() function for that purpose\n",
    "sanket  = np.array([3,2,0,1])\n",
    "print(np.sort(sanket)) #sort method just returns the copy of the array and it does not change the original array"
   ]
  },
  {
   "cell_type": "code",
   "execution_count": 8,
   "id": "e74e0414",
   "metadata": {},
   "outputs": [
    {
     "name": "stdout",
     "output_type": "stream",
     "text": [
      "['f' 'h' 'r' 't']\n"
     ]
    }
   ],
   "source": [
    "# we can sort any data type\n",
    "sanket  = np.array(['r','f','t','h'])\n",
    "print(np.sort(sanket))"
   ]
  },
  {
   "cell_type": "code",
   "execution_count": 9,
   "id": "fed2fea2",
   "metadata": {},
   "outputs": [
    {
     "name": "stdout",
     "output_type": "stream",
     "text": [
      "[[2 3 4]\n",
      " [0 1 5]]\n"
     ]
    }
   ],
   "source": [
    "# Sorting the 2D array -- till now we have seen 1D array -- sorting can be done on any dimension\n",
    "sanket = np.array([[3,2,4],[5,0,1]])\n",
    "print(np.sort(sanket))"
   ]
  },
  {
   "cell_type": "code",
   "execution_count": 11,
   "id": "725332f8",
   "metadata": {},
   "outputs": [
    {
     "name": "stdout",
     "output_type": "stream",
     "text": [
      "[41 43]\n"
     ]
    }
   ],
   "source": [
    "# How filter array in the numpy -- getting some elements out of the array and creating the new array is the filtering -- in\n",
    "# numpy we can use filter and array using boolean index list -- bolleans index list is the list of the boolean corresponding\n",
    "# to the inndexes in the array's\n",
    "sanket = np.array([41,42,43,44])\n",
    "x = [True,False,True,False]\n",
    "sanketnew = sanket[x]\n",
    "print(sanketnew)"
   ]
  },
  {
   "cell_type": "code",
   "execution_count": 13,
   "id": "62973973",
   "metadata": {},
   "outputs": [
    {
     "name": "stdout",
     "output_type": "stream",
     "text": [
      "[False, False, True, True]\n"
     ]
    }
   ],
   "source": [
    "# Creating the filter array\n",
    "sanket = np.array([41,42,43,44])\n",
    "# create an empty list \n",
    "sanketf = []\n",
    "# go through each element in the array -- if element is higher than 42 then True otherwise False\n",
    "for i in sanket:\n",
    "        if i > 42:\n",
    "            sanketf.append(True)\n",
    "        else:\n",
    "            sanketf.append(False)\n",
    "print(sanketf)"
   ]
  },
  {
   "cell_type": "code",
   "execution_count": 14,
   "id": "83bec05e",
   "metadata": {},
   "outputs": [
    {
     "name": "stdout",
     "output_type": "stream",
     "text": [
      "18\n"
     ]
    }
   ],
   "source": [
    "# Numpy Random Number's \n",
    "# This random number is generated though algorithm called pseudo random\n",
    "from numpy import random\n",
    "sanket = random.randint(100)\n",
    "print(sanket)"
   ]
  },
  {
   "cell_type": "code",
   "execution_count": 15,
   "id": "acd1acb6",
   "metadata": {},
   "outputs": [
    {
     "name": "stdout",
     "output_type": "stream",
     "text": [
      "0.3329507632812191\n"
     ]
    }
   ],
   "source": [
    "# random float\n",
    "x = random.rand()\n",
    "print(x)"
   ]
  },
  {
   "cell_type": "code",
   "execution_count": 16,
   "id": "ae51891c",
   "metadata": {},
   "outputs": [
    {
     "name": "stdout",
     "output_type": "stream",
     "text": [
      "[74 25 35 88 28]\n"
     ]
    }
   ],
   "source": [
    "# Generate random array's\n",
    "# 1D Array\n",
    "sanket = random.randint(100,size=(5))\n",
    "print(sanket)"
   ]
  },
  {
   "cell_type": "code",
   "execution_count": 17,
   "id": "95d26b1e",
   "metadata": {},
   "outputs": [
    {
     "name": "stdout",
     "output_type": "stream",
     "text": [
      "[[88 49 35 56 73]\n",
      " [13 50 62 81  6]\n",
      " [54 75 19 57 52]]\n"
     ]
    }
   ],
   "source": [
    "# Create 2D array \n",
    "sanket = random.randint(100,size=(3,5))\n",
    "print(sanket)"
   ]
  },
  {
   "cell_type": "code",
   "execution_count": 20,
   "id": "e670b254",
   "metadata": {},
   "outputs": [
    {
     "name": "stdout",
     "output_type": "stream",
     "text": [
      "[0.18204825 0.58975203 0.95325934 0.37829727 0.36539829]\n"
     ]
    }
   ],
   "source": [
    "# Create floating 1D array\n",
    "sanket = random.rand(5)\n",
    "print(sanket)"
   ]
  },
  {
   "cell_type": "code",
   "execution_count": 21,
   "id": "8e9cf429",
   "metadata": {},
   "outputs": [
    {
     "name": "stdout",
     "output_type": "stream",
     "text": [
      "[[0.33183997 0.4829109  0.90090645 0.91543944 0.86423466]\n",
      " [0.83517671 0.26512093 0.22589222 0.03247428 0.24495387]\n",
      " [0.38628717 0.94003674 0.31052217 0.24593498 0.62104455]]\n"
     ]
    }
   ],
   "source": [
    "# Create 2D Floating array\n",
    "sanket = random.rand(3,5)\n",
    "print(sanket)"
   ]
  },
  {
   "cell_type": "code",
   "execution_count": 22,
   "id": "c3680bad",
   "metadata": {},
   "outputs": [
    {
     "name": "stdout",
     "output_type": "stream",
     "text": [
      "9\n"
     ]
    }
   ],
   "source": [
    "# Generate Random Number from an Array\n",
    "# we will use choice function\n",
    "sanket = random.choice([3,5,7,9])\n",
    "print(sanket)"
   ]
  },
  {
   "cell_type": "code",
   "execution_count": 23,
   "id": "20c6ec84",
   "metadata": {},
   "outputs": [
    {
     "name": "stdout",
     "output_type": "stream",
     "text": [
      "[[9 3 7 5 9]\n",
      " [7 3 3 9 9]\n",
      " [3 9 9 7 7]]\n"
     ]
    }
   ],
   "source": [
    "# Generate 2D From the random array\n",
    "sanket = random.choice([3,5,7,9],size=(3,5))\n",
    "print(sanket)"
   ]
  },
  {
   "cell_type": "code",
   "execution_count": null,
   "id": "648a79b0",
   "metadata": {},
   "outputs": [],
   "source": []
  }
 ],
 "metadata": {
  "kernelspec": {
   "display_name": "Python 3 (ipykernel)",
   "language": "python",
   "name": "python3"
  },
  "language_info": {
   "codemirror_mode": {
    "name": "ipython",
    "version": 3
   },
   "file_extension": ".py",
   "mimetype": "text/x-python",
   "name": "python",
   "nbconvert_exporter": "python",
   "pygments_lexer": "ipython3",
   "version": "3.9.13"
  }
 },
 "nbformat": 4,
 "nbformat_minor": 5
}
